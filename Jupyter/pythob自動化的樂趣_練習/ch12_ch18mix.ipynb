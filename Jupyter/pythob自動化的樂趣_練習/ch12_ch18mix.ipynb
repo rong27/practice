{
 "cells": [
  {
   "cell_type": "code",
   "execution_count": 27,
   "metadata": {
    "collapsed": false
   },
   "outputs": [
    {
     "name": "stdout",
     "output_type": "stream",
     "text": [
      "[['spam', 'eggs', 'bacon', 'ham'], ['Hello, world!', 'eggs', 'bacon', 'ham'], ['1', '2', '3', '3.141592', '4']]\n",
      "eggs\n"
     ]
    }
   ],
   "source": [
    "import csv,os\n",
    "os.chdir('D:/joy.lin/github/practiceFile/jupyterFile/sth')\n",
    "exampleFile = open('example.csv')\n",
    "exampleReader = csv.reader(exampleFile)\n",
    "exampleData = list(exampleReader)\n",
    "print(exampleData)\n",
    "print(exampleData[0][1])"
   ]
  },
  {
   "cell_type": "code",
   "execution_count": 28,
   "metadata": {
    "collapsed": false
   },
   "outputs": [
    {
     "name": "stdout",
     "output_type": "stream",
     "text": [
      "Row #1 ['spam', 'eggs', 'bacon', 'ham']\n",
      "Row #2 ['Hello, world!', 'eggs', 'bacon', 'ham']\n",
      "Row #3 ['1', '2', '3', '3.141592', '4']\n"
     ]
    }
   ],
   "source": [
    "import csv,os\n",
    "os.chdir('D:/joy.lin/github/practiceFile/jupyterFile/sth')\n",
    "exampleFile = open('example.csv')\n",
    "exampleReader = csv.reader(exampleFile)\n",
    "#以for迴圈讀取Reader件的資料\n",
    "for row in exampleReader:\n",
    "    print('Row #' + str(exampleReader.line_num) + ' ' + str(row) ) # line_num 是 Reader物件裡的東西"
   ]
  },
  {
   "cell_type": "code",
   "execution_count": 34,
   "metadata": {
    "collapsed": false
   },
   "outputs": [],
   "source": [
    "#Writer物件\n",
    "\n",
    "import csv,os\n",
    "os.chdir('D:/joy.lin/github/practiceFile/jupyterFile/sth')\n",
    "outputFile = open('example.csv','w' ,newline='') \n",
    "outputWriter = csv.writer(outputFile)\n",
    "outputWriter.writerow(['spam','eggs','bacon','ham'])\n",
    "outputWriter.writerow(['Hello, world!','eggs','bacon','ham'])\n",
    "outputWriter.writerow([1,2,3,3.141592,4])\n",
    "\n",
    "outputFile.close()"
   ]
  },
  {
   "cell_type": "code",
   "execution_count": 36,
   "metadata": {
    "collapsed": false
   },
   "outputs": [
    {
     "data": {
      "text/plain": [
       "1533022420.0410194"
      ]
     },
     "execution_count": 36,
     "metadata": {},
     "output_type": "execute_result"
    }
   ],
   "source": [
    "import time\n",
    "time.time()"
   ]
  },
  {
   "cell_type": "code",
   "execution_count": 38,
   "metadata": {
    "collapsed": false
   },
   "outputs": [
    {
     "data": {
      "text/plain": [
       "datetime.datetime(2018, 7, 31, 15, 43, 31, 34016)"
      ]
     },
     "execution_count": 38,
     "metadata": {},
     "output_type": "execute_result"
    }
   ],
   "source": [
    "import datetime\n",
    "datetime.datetime.now()"
   ]
  },
  {
   "cell_type": "code",
   "execution_count": 73,
   "metadata": {
    "collapsed": false
   },
   "outputs": [
    {
     "name": "stdout",
     "output_type": "stream",
     "text": [
      "8/13(一) : ['small', 'juin', 'ting']\n",
      "8/14(二) : ['joy', 'wally', 'harry']\n",
      "8/15(三) : ['ethan', 'dicky', 'rick']\n",
      "8/16(四) : ['terry', 'nio']\n"
     ]
    }
   ],
   "source": [
    "import random\n",
    "\n",
    "people = ['rick','small','terry','harry','juin','ting','ethan','dicky','nio','wally','joy']\n",
    "random.shuffle(people)\n",
    "group1 = people[0:3]\n",
    "group2 = people[3:6]\n",
    "group3 = people[6:9]\n",
    "group4 = people[9:11]\n",
    "\n",
    "print('8/13(一) : ' + str(group1) )\n",
    "print('8/14(二) : ' + str(group2) )\n",
    "print('8/15(三) : ' + str(group3) )\n",
    "print('8/16(四) : ' + str(group4) )"
   ]
  },
  {
   "cell_type": "code",
   "execution_count": null,
   "metadata": {
    "collapsed": true
   },
   "outputs": [],
   "source": [
    "#Ch17 處理影像圖片"
   ]
  },
  {
   "cell_type": "code",
   "execution_count": 82,
   "metadata": {
    "collapsed": false,
    "scrolled": true
   },
   "outputs": [
    {
     "data": {
      "text/plain": [
       "(255, 0, 0, 255)"
      ]
     },
     "execution_count": 82,
     "metadata": {},
     "output_type": "execute_result"
    }
   ],
   "source": [
    "from PIL import ImageColor\n",
    "ImageColor.getcolor('red','RGBA') #色彩名稱不分大小寫"
   ]
  },
  {
   "cell_type": "code",
   "execution_count": 94,
   "metadata": {
    "collapsed": false
   },
   "outputs": [
    {
     "name": "stdout",
     "output_type": "stream",
     "text": [
      "(816, 1088)\n",
      "Width : 816\n",
      "Height : 1088\n",
      "Filename : zophie.png\n",
      "Format : PNG\n",
      "Description : Portable network graphics\n"
     ]
    }
   ],
   "source": [
    "from PIL import Image\n",
    "import os\n",
    "os.chdir('D:/joy.lin/github/practiceFile/jupyterFile/sth')\n",
    "catIm = Image.open('zophie.png')\n",
    "\n",
    "# 處理Image資料型別\n",
    "print(catIm.size)\n",
    "width, height = catIm.size\n",
    "print('Width : ' + str(width))\n",
    "print('Height : ' + str(height))\n",
    "\n",
    "print('Filename : ' + catIm.filename)\n",
    "print('Format : ' + catIm.format)\n",
    "print('Description : ' + catIm.format_description)\n",
    "\n",
    "catIm.save('zophie.jpg')"
   ]
  },
  {
   "cell_type": "code",
   "execution_count": 99,
   "metadata": {
    "collapsed": true
   },
   "outputs": [],
   "source": [
    "from PIL import Image\n",
    "import os\n",
    "os.chdir('D:/joy.lin/github/practiceFile/jupyterFile/sth')\n",
    "\n",
    "im = Image.new('RGBA' , (100,200) , 'purple')  #100寬  ; 200高\n",
    "im.save('purpleImgage.png') \n",
    "im2 = Image.new('RGBA' , (20,20))\n",
    "im2.save('transparentImage.png')"
   ]
  },
  {
   "cell_type": "code",
   "execution_count": 174,
   "metadata": {
    "collapsed": false
   },
   "outputs": [
    {
     "name": "stdout",
     "output_type": "stream",
     "text": [
      "Face Size : (210, 215)\n",
      "0 0\n",
      "0 215\n",
      "0 430\n",
      "0 645\n",
      "0 860\n",
      "0 1075\n",
      "210 0\n",
      "210 215\n",
      "210 430\n",
      "210 645\n",
      "210 860\n",
      "210 1075\n",
      "420 0\n",
      "420 215\n",
      "420 430\n",
      "420 645\n",
      "420 860\n",
      "420 1075\n",
      "630 0\n",
      "630 215\n",
      "630 430\n",
      "630 645\n",
      "630 860\n",
      "630 1075\n"
     ]
    }
   ],
   "source": [
    "# 裁切影像圖片\n",
    "from PIL import Image\n",
    "import os\n",
    "os.chdir('D:/joy.lin/github/practiceFile/jupyterFile/sth')\n",
    "\n",
    "croppedIm = catIm.crop((335,345,565,560))\n",
    "croppedIm.save('cropped.png')\n",
    "\n",
    "\n",
    "# 將影像圖複製和貼上到其他影像圖中\n",
    "catIm = Image.open('zophie.png')\n",
    "catCopyIm = catIm.copy()\n",
    "faceIm = catIm.crop((355,345,565,560))\n",
    "print('Face Size : ' + str(faceIm.size))\n",
    "catCopyIm.paste(faceIm, (0,0))\n",
    "catCopyIm.paste(faceIm, (100,200))\n",
    "catCopyIm.paste(faceIm, (400,500))\n",
    "catCopyIm.paste(faceIm, (600,700))\n",
    "catCopyIm.save('pasted.png')\n",
    "\n",
    "\n",
    "#貓咪臉貼完整張圖\n",
    "catImWidth, catImHeight = catIm.size\n",
    "faceImWidth, faceImHeight = faceIm.size\n",
    "catCopyTwo = catIm.copy()\n",
    "for left in range(0, catImWidth, faceImWidth):\n",
    "    for top in range(0, catImHeight,faceImHeight):\n",
    "        print(left,top)\n",
    "        catCopyTwo.paste(faceIm,(left,top))\n",
    "        \n",
    "catCopyTwo.save('tiled.png')\n",
    "\n",
    "# 調整影像圖片的大小\n",
    "\n",
    "width, height = catIm.size\n",
    "quartersizedIm = catIm.resize((int(width/2),int(height/2)))\n",
    "quartersizedIm.save('quartersized.png')\n",
    "svelteIm = catIm.resize((width , height+300))\n",
    "svelteIm.save('svelte.png')\n",
    "\n",
    "# 影像的旋轉和翻轉\n",
    "\n",
    "catIm.rotate(90).save('rotated90.png') # rotate 是 逆時針旋轉的度數\n",
    "catIm.rotate(90*2).save('rotated180.png')\n",
    "catIm.rotate(270, expand = True).save('rotated270expand.png') #expand會放大整個影像圖的版面尺寸\n",
    "catIm.rotate(270, expand = False).save('rotated270.png')\n",
    "\n",
    "#\n",
    "catIm.transpose(Image.FLIP_LEFT_RIGHT).save('horizontal_flip.png')\n",
    "catIm.transpose(Image.FLIP_TOP_BOTTOM).save('vertical_flip.png')"
   ]
  },
  {
   "cell_type": "code",
   "execution_count": 172,
   "metadata": {
    "collapsed": false
   },
   "outputs": [
    {
     "name": "stdout",
     "output_type": "stream",
     "text": [
      "0 0\n",
      "0 260\n",
      "0 520\n",
      "0 780\n",
      "0 1040\n",
      "0 1300\n",
      "0 1560\n",
      "195 0\n",
      "195 260\n",
      "195 520\n",
      "195 780\n",
      "195 1040\n",
      "195 1300\n",
      "195 1560\n",
      "390 0\n",
      "390 260\n",
      "390 520\n",
      "390 780\n",
      "390 1040\n",
      "390 1300\n",
      "390 1560\n",
      "585 0\n",
      "585 260\n",
      "585 520\n",
      "585 780\n",
      "585 1040\n",
      "585 1300\n",
      "585 1560\n",
      "780 0\n",
      "780 260\n",
      "780 520\n",
      "780 780\n",
      "780 1040\n",
      "780 1300\n",
      "780 1560\n"
     ]
    }
   ],
   "source": [
    "# 裁切影像圖片\n",
    "from PIL import Image\n",
    "import os\n",
    "os.chdir('D:/joy.lin/github/practiceFile/jupyterFile/sth')\n",
    "chuckyIm = Image.open('chucky.jpg')\n",
    "\n",
    "\n",
    "chuckyfaceIm = chuckyIm.crop((455,490,650,750))\n",
    "chuckyfaceIm.save('chuckycropped.jpg')\n",
    "\n",
    "chuckyImWidth, chuckyImHeight = chuckyIm.size\n",
    "chuckyfaceImWidth, chuckyfaceImHeight = chuckyfaceIm.size\n",
    "chuckyCopyTwo = chuckyIm.copy()\n",
    "for left in range(0, chuckyImWidth, chuckyfaceImWidth):\n",
    "    for top in range(0, chuckyImHeight,chuckyfaceImHeight):\n",
    "        print(left,top)\n",
    "        chuckyCopyTwo.paste(chuckyfaceIm,(left,top))\n",
    "        \n",
    "chuckyCopyTwo.save('chuckytiled.png')"
   ]
  },
  {
   "cell_type": "code",
   "execution_count": 181,
   "metadata": {
    "collapsed": false
   },
   "outputs": [
    {
     "name": "stdout",
     "output_type": "stream",
     "text": [
      "(210, 210, 230, 255)\n",
      "(255, 192, 203, 255)\n"
     ]
    }
   ],
   "source": [
    "#修改單個像素\n",
    "from PIL import Image\n",
    "import os\n",
    "os.chdir('D:/joy.lin/github/practiceFile/jupyterFile/sth')\n",
    "\n",
    "im = Image.new('RGBA',(100,100))\n",
    "im.getpixel((0,0))\n",
    "for x in range(100):\n",
    "    for y in range(50):\n",
    "        im.putpixel((x,y),(210,210,230))\n",
    "\n",
    "from PIL import ImageColor\n",
    "for x in range(100):\n",
    "    for y in range(50,100):\n",
    "        im.putpixel((x,y),ImageColor.getcolor('pink','RGBA'))\n",
    "        \n",
    "print(im.getpixel((0,0)))\n",
    "print(im.getpixel((0,50)))\n",
    "im.save('putPixel.png')\n"
   ]
  },
  {
   "cell_type": "code",
   "execution_count": 193,
   "metadata": {
    "collapsed": false
   },
   "outputs": [],
   "source": [
    "from PIL import Image, ImageDraw\n",
    "im = Image.new('RGBA',(200,200), 'white')\n",
    "draw = ImageDraw.Draw(im)\n",
    "draw.line([(0,0),(199,0),(199,199),(0,199),(0,0)], fill= 'black')\n",
    "draw.rectangle((20,30,60,60), fill = 'blue')\n",
    "draw.ellipse((120,30,160,60),fill = 'red')\n",
    "draw.polygon(((57,87),(79,62),(94,85),(120,90),(103,113)),fill= 'darkred')\n",
    "\n",
    "for i in range(100,200,10):\n",
    "    draw.line([(i,0),(200, i-100)], fill= 'green')\n",
    "    \n",
    "im.save('drawing.png')"
   ]
  }
 ],
 "metadata": {
  "kernelspec": {
   "display_name": "Python [conda env:Anaconda3]",
   "language": "python",
   "name": "conda-env-Anaconda3-py"
  },
  "language_info": {
   "codemirror_mode": {
    "name": "ipython",
    "version": 3
   },
   "file_extension": ".py",
   "mimetype": "text/x-python",
   "name": "python",
   "nbconvert_exporter": "python",
   "pygments_lexer": "ipython3",
   "version": "3.5.2"
  }
 },
 "nbformat": 4,
 "nbformat_minor": 1
}
