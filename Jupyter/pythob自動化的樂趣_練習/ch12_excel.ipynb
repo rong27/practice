{
 "cells": [
  {
   "cell_type": "code",
   "execution_count": 1,
   "metadata": {
    "collapsed": true
   },
   "outputs": [],
   "source": [
    "# Openpyxl模組可以處理Excel試算表"
   ]
  },
  {
   "cell_type": "code",
   "execution_count": 31,
   "metadata": {
    "collapsed": false
   },
   "outputs": [
    {
     "name": "stdout",
     "output_type": "stream",
     "text": [
      "['20180727report_total', '20180720report_total', '20180713report_total', '20180706report_total', '20180629report_total', '20180622report_total']\n",
      "<Worksheet \"20180727report_total\">\n",
      "20180727report_total\n",
      "<Worksheet \"20180727report_total\">\n",
      "------------------\n",
      "Camera\n",
      "------------------\n",
      "<Cell 20180727report_total.B1>\n",
      "FD\n",
      "------------------\n",
      "B1\n",
      "--------row----------\n",
      "22\n",
      "1\n",
      "--------column----------\n",
      "8\n",
      "1\n"
     ]
    }
   ],
   "source": [
    "import openpyxl,os\n",
    "os.chdir(\"C:/Users/joy.lin/Desktop/\")\n",
    "wb = openpyxl.load_workbook('report_total.xlsx')\n",
    "\n",
    "print(wb.get_sheet_names())\n",
    "sheet = wb.get_sheet_by_name('20180727report_total')\n",
    "print(sheet)\n",
    "print(sheet.title)\n",
    "anotherSheet = wb.active\n",
    "print(anotherSheet)\n",
    "print('------------------')\n",
    "print(sheet['A1'].value)\n",
    "B1_Cell=sheet['B1']\n",
    "print('------------------')\n",
    "print(B1_Cell)\n",
    "print(B1_Cell.value)\n",
    "print('------------------')\n",
    "print(B1_Cell.coordinate)\n",
    "print('--------row----------')\n",
    "print(sheet.max_row)\n",
    "print(sheet.min_row)\n",
    "print('--------column----------')\n",
    "print(sheet.max_column)\n",
    "print(sheet.min_column)"
   ]
  },
  {
   "cell_type": "code",
   "execution_count": 40,
   "metadata": {
    "collapsed": false
   },
   "outputs": [
    {
     "name": "stdout",
     "output_type": "stream",
     "text": [
      "A\n",
      "C\n",
      "703\n",
      "H\n"
     ]
    }
   ],
   "source": [
    "#欄的字母和數字之間的轉換 openpyxl.utils.cell.column_index_from_string()\n",
    "#欄的數字轉換成字母 openpyxl.utils.cell.get_column_letter()\n",
    "\n",
    "import openpyxl,os\n",
    "os.chdir(\"C:/Users/joy.lin/Desktop/\")\n",
    "\n",
    "from openpyxl.utils import get_column_letter,  column_index_from_string\n",
    "\n",
    "print(get_column_letter(1))\n",
    "print(get_column_letter(3))\n",
    "\n",
    "print(column_index_from_string('AAA'))\n",
    "\n",
    "wb = openpyxl.load_workbook('report_total.xlsx')\n",
    "sheet = wb.get_sheet_by_name('20180727report_total')\n",
    "print(get_column_letter(sheet.max_column))"
   ]
  },
  {
   "cell_type": "code",
   "execution_count": 54,
   "metadata": {
    "collapsed": false
   },
   "outputs": [
    {
     "name": "stdout",
     "output_type": "stream",
     "text": [
      "((<Cell Sheet1.B1>, <Cell Sheet1.C1>, <Cell Sheet1.D1>, <Cell Sheet1.E1>, <Cell Sheet1.F1>), (<Cell Sheet1.B2>, <Cell Sheet1.C2>, <Cell Sheet1.D2>, <Cell Sheet1.E2>, <Cell Sheet1.F2>), (<Cell Sheet1.B3>, <Cell Sheet1.C3>, <Cell Sheet1.D3>, <Cell Sheet1.E3>, <Cell Sheet1.F3>))\n",
      "B1 A\n",
      "C1 B\n",
      "D1 C\n",
      "E1 D\n",
      "F1 E\n",
      "--- End Of Run ---\n",
      "B2 100\n",
      "C2 90\n",
      "D2 80\n",
      "E2 70\n",
      "F2 60\n",
      "--- End Of Run ---\n",
      "B3 F\n",
      "C3 M\n",
      "D3 F\n",
      "E3 F\n",
      "F3 M\n",
      "--- End Of Run ---\n"
     ]
    }
   ],
   "source": [
    "#從工作表取得欄和列\n",
    "import openpyxl,os\n",
    "os.chdir(\"C:/Users/joy.lin/Desktop/\")\n",
    "wb = openpyxl.load_workbook('test.xlsx')\n",
    "sheet = wb.get_sheet_by_name('Sheet1')\n",
    "print(tuple(sheet['B1':'F3']))\n",
    "for rowOfCellObjects in sheet['B1':'F3']:\n",
    "    for CellObj in rowOfCellObjects:\n",
    "        print(CellObj.coordinate, CellObj.value)\n",
    "    print('--- End Of Run ---')"
   ]
  },
  {
   "cell_type": "code",
   "execution_count": 63,
   "metadata": {
    "collapsed": false,
    "scrolled": true
   },
   "outputs": [
    {
     "name": "stdout",
     "output_type": "stream",
     "text": [
      "活頁簿、工作表、儲存格\n",
      "\n",
      "1. import openpyxl\n",
      "2. call function : openpyxl.load_workbook()\n",
      "3. 取得 Workbook物件\n",
      "4. call : get_active_sheet() or get_sheet_by_name()活頁簿方法\n",
      "5. 取得 Worksheet物件\n",
      "6. 使用索引方法或工作表的cell()方法,傳入row、column關鍵字引數\n",
      "7. 取得 Cell物件\n",
      "8. 取得 Cell物件的value屬性\n"
     ]
    }
   ],
   "source": [
    "print('活頁簿、工作表、儲存格')\n",
    "print('')\n",
    "print('1. import openpyxl')\n",
    "print('2. call function : openpyxl.load_workbook()')\n",
    "print('3. 取得 Workbook物件')\n",
    "print('4. call : get_active_sheet() or get_sheet_by_name()活頁簿方法')\n",
    "print('5. 取得 Worksheet物件')\n",
    "print('6. 使用索引方法或工作表的cell()方法,傳入row、column關鍵字引數')\n",
    "print('7. 取得 Cell物件')\n",
    "print('8. 取得 Cell物件的value屬性')"
   ]
  },
  {
   "cell_type": "code",
   "execution_count": 79,
   "metadata": {
    "collapsed": false
   },
   "outputs": [
    {
     "name": "stdout",
     "output_type": "stream",
     "text": [
      "Opening......\n",
      "Reading rows...\n",
      "Writing results...\n",
      "Done\n"
     ]
    }
   ],
   "source": [
    "# !python3\n",
    "# readCensusExcel.py - Tabulates population and number of cencus tracts for each county\n",
    "\n",
    "import openpyxl,os, pprint\n",
    "print('Opening......')\n",
    "os.chdir(\"C:/Users/joy.lin/Desktop/\")\n",
    "wb = openpyxl.load_workbook('censuspopdata.xlsx')\n",
    "sheet = wb.get_sheet_by_name('Population by Census Tract')\n",
    "countyData={}\n",
    "\n",
    "#TODO: Fill in countyData with each county's population and tracts\n",
    "print('Reading rows...')\n",
    "for row in range(2, sheet.max_row +1):\n",
    "    # Each row in the spreadsheet has data for one cencus tract.\n",
    "    state = sheet['B' + str(row)].value\n",
    "    county = sheet['C' + str(row)].value\n",
    "    pop = sheet['D' + str(row)].value\n",
    "    \n",
    "    #Make sure the key for this state exists.\n",
    "    countyData.setdefault(state,{})\n",
    "    #Make sure the key for this county in this state exists.\n",
    "    countyData[state].setdefault(county,{'tracts':0 , 'pop':0})\n",
    "\n",
    "    #Each row represents one census tract, so increment by one.\n",
    "    countyData[state][county]['tracts'] += 1\n",
    "    \n",
    "    # Increase the county pop by the pop in this census tract.\n",
    "    countyData[state][county]['pop'] += int(pop)\n",
    "    \n",
    "#TODO: Open a new text file and write the contents of countyData to it.\n",
    "\n",
    "print('Writing results...')\n",
    "resultFile = open('census2010.py','w')\n",
    "resultFile.write('allData = ' + pprint.pformat(countyData))\n",
    "resultFile.close()\n",
    "print('Done')"
   ]
  },
  {
   "cell_type": "code",
   "execution_count": 80,
   "metadata": {
    "collapsed": false,
    "scrolled": true
   },
   "outputs": [
    {
     "data": {
      "text/plain": [
       "{'pop': 291826, 'tracts': 55}"
      ]
     },
     "execution_count": 80,
     "metadata": {},
     "output_type": "execute_result"
    }
   ],
   "source": [
    "import os \n",
    "os.chdir(\"C:/Users/joy.lin/Desktop/\")\n",
    "import census2010\n",
    "census2010.allData['AK']['Anchorage']"
   ]
  },
  {
   "cell_type": "code",
   "execution_count": 87,
   "metadata": {
    "collapsed": false
   },
   "outputs": [
    {
     "name": "stdout",
     "output_type": "stream",
     "text": [
      "---openpyxl.Workbook()函式可建立一個新的空白workbook物件---\n",
      "Sheet\n",
      "['Spam Bacon Eggs Sheet']\n"
     ]
    }
   ],
   "source": [
    "#寫入excel檔\n",
    "\n",
    "#新建並儲存excel檔案\n",
    "\n",
    "print('---openpyxl.Workbook()函式可建立一個新的空白workbook物件---')\n",
    "\n",
    "import openpyxl ,os\n",
    "os.chdir(\"C:/Users/joy.lin/Desktop/\")\n",
    "wb = openpyxl.Workbook()\n",
    "wb.get_sheet_names()\n",
    "\n",
    "sheet = wb.active\n",
    "print(sheet.title)\n",
    "sheet.title = 'Spam Bacon Eggs Sheet'\n",
    "print(wb.get_sheet_names())"
   ]
  },
  {
   "cell_type": "code",
   "execution_count": 92,
   "metadata": {
    "collapsed": false
   },
   "outputs": [],
   "source": [
    "import openpyxl,os\n",
    "os.chdir(\"C:/Users/joy.lin/Desktop/\")\n",
    "wb = openpyxl.load_workbook('test_copy.xlsx')\n",
    "sheet = wb.active\n",
    "sheet.title = 'Spam_test'\n",
    "wb.save('test_copy.xlsx') # 對同一個檔案是覆寫 , 若寫不同名稱的話就會變成新的檔案"
   ]
  },
  {
   "cell_type": "code",
   "execution_count": 103,
   "metadata": {
    "collapsed": false
   },
   "outputs": [
    {
     "name": "stdout",
     "output_type": "stream",
     "text": [
      "Tips: create_sheet() 和 remove_sheet()方法可在活頁簿中新建或刪除工作表\n"
     ]
    },
    {
     "data": {
      "text/plain": [
       "['First Sheet', 'Sheet']"
      ]
     },
     "execution_count": 103,
     "metadata": {},
     "output_type": "execute_result"
    }
   ],
   "source": [
    "#建立和刪除工作表\n",
    "print('Tips: create_sheet() 和 remove_sheet()方法可在活頁簿中新建或刪除工作表')\n",
    "import openpyxl,os\n",
    "os.chdir(\"C:/Users/joy.lin/Desktop/\")\n",
    "wb = openpyxl.Workbook()\n",
    "wb.get_sheet_names()\n",
    "wb.create_sheet()\n",
    "wb.get_sheet_names()\n",
    "wb.create_sheet(index = 0, title = 'First Sheet')\n",
    "wb.get_sheet_names()\n",
    "wb.create_sheet(index = 2, title = 'Middle Sheet')\n",
    "wb.get_sheet_names()\n",
    "wb.remove_sheet(wb.get_sheet_by_name('Middle Sheet'))\n",
    "wb.remove_sheet(wb.get_sheet_by_name('Sheet1'))\n",
    "wb.get_sheet_names()"
   ]
  },
  {
   "cell_type": "code",
   "execution_count": 106,
   "metadata": {
    "collapsed": false
   },
   "outputs": [
    {
     "data": {
      "text/plain": [
       "'Hello World!'"
      ]
     },
     "execution_count": 106,
     "metadata": {},
     "output_type": "execute_result"
    }
   ],
   "source": [
    "#將值寫入儲存格內\n",
    "import openpyxl\n",
    "wb = openpyxl.Workbook()\n",
    "sheet = wb.get_sheet_by_name('Sheet')\n",
    "sheet['A1'] = 'Hello World!'\n",
    "sheet['A1'].value"
   ]
  },
  {
   "cell_type": "code",
   "execution_count": 157,
   "metadata": {
    "collapsed": false
   },
   "outputs": [],
   "source": [
    "#! python3\n",
    "# updateProduce.py - Corrects costs in produce spreadsheet.\n",
    "\n",
    "import os, openpyxl\n",
    "os.chdir(\"D:/joy.lin/github/practiceFile/jupyterFile/sth\")\n",
    "wb = openpyxl.load_workbook(\"produceSales.xlsx\")\n",
    "sheet = wb.get_sheet_by_name('Sheet')\n",
    "\n",
    "# The produce types and their updated prices\n",
    "PRICE_UPDATES = { 'Garlic' : 3.07,\n",
    "                  'Celery' : 1.19,\n",
    "                  'Lemon'  : 1.27 }\n",
    "\n",
    "# The Loop through the rows and update the prices.\n",
    "for rowNum in range(2, sheet.max_row): #skip the first row\n",
    "    produceName = sheet.cell(row=rowNum, column =1).value\n",
    "    if produceName in PRICE_UPDATES:\n",
    "        sheet.cell(row=rowNum,column=2).value = PRICE_UPDATES[produceName]\n",
    "wb.save('updatedProduceSales.xlsx')\n",
    "\n",
    "#若要自訂儲存格的字型格式要從 openpyxl.styles模組import Font()\n",
    "\n",
    "from openpyxl.styles import Font\n",
    "italic24Font = Font(size=24,italic=True,bold=True)\n",
    "sheet['A1'].font = italic24Font\n",
    "sheet['A1'] = 'Hello world!'\n",
    "wb.save('styled.xlsx')\n",
    "\n",
    "#公式\n",
    "\n",
    "sheet['G2'] = '=SUM(D2:D11)'\n",
    "sheet['G1'] = 'Test sum'\n",
    "wb.save('styled.xlsx')\n",
    "\n",
    "# 調整欄與列\n",
    "\n",
    "sheet['I1'] = 'Tall row'\n",
    "sheet['J1'] = 'Wide Column'\n",
    "sheet.row_dimensions[1].height = 70\n",
    "sheet.column_dimensions['J'].width = 20\n",
    "sheet.column_dimensions['A'].width = 50\n",
    "wb.save('styled.xlsx')\n",
    "\n",
    "# 合併和取消合併儲存格\n",
    "\n",
    "# use merge_cells()方法 合併\n",
    "sheet.merge_cells('I2:J2')\n",
    "sheet['I2'] = 'This is the merge cell.'\n",
    "sheet.merge_cells('I3:J3')\n",
    "sheet['I3'] = 'This merge cell will be deleted.'\n",
    "wb.save('styled.xlsx')\n",
    "\n",
    "# use unmerge_cells()方法 取消\n",
    "sheet.unmerge_cells('I3:J3')\n",
    "wb.save('styled.xlsx')\n",
    "\n",
    "#凍結窗格\n",
    "sheet.freeze_panes = 'A2'\n",
    "wb.save('styled.xlsx')\n",
    "\n",
    "#圖表\n",
    "    \n",
    "for i in sheet['K1:A10']:\n",
    "    for i in range(1,11):\n",
    "        sheet['K' + str(i)] = i\n",
    "    \n",
    "refObj = openpyxl.chart.Reference(sheet, min_col=11, min_row=1, max_col=11, max_row=10)\n",
    "seriesObj = openpyxl.chart.Series(refObj, title='total series')\n",
    "chartObj = openpyxl.chart.BarChart()\n",
    "chartObj.title = 'My Chart'\n",
    "chartObj.append(seriesObj)\n",
    "sheet.add_chart(chartObj, 'G5')\n",
    "wb.save('styled.xlsx')\n"
   ]
  },
  {
   "cell_type": "code",
   "execution_count": 363,
   "metadata": {
    "collapsed": false
   },
   "outputs": [],
   "source": [
    "# 參考 : https://github.com/hat/PythonPractice/blob/master/multiplicationTable.py\n",
    "import os, openpyxl\n",
    "from openpyxl.styles import Font\n",
    "os.chdir(\"D:/joy.lin/github/practiceFile/jupyterFile/sth\")\n",
    "wb = openpyxl.Workbook()\n",
    "wb.get_sheet_names()\n",
    "\n",
    "sheet = wb.active\n",
    "sheet.title =  'multiplicationTable'\n",
    "\n",
    "table_size = 6\n",
    "starting_num = 1\n",
    "bold = Font(bold=True)\n",
    "\n",
    "for colNum in range(0,table_size):\n",
    "    for rowNum in range(0,table_size):\n",
    "        if colNum == 0 :\n",
    "            sheet.cell(row = rowNum + 1 ,column = 1).font = bold\n",
    "            sheet.cell(row = rowNum + 1 ,column = 1).value = rowNum+1\n",
    "        elif rowNum == 0 :\n",
    "            sheet.cell(row = 1 ,column = colNum + 1).font = bold\n",
    "            sheet.cell(row = 1 ,column = colNum + 1).value = colNum+1\n",
    "        else:\n",
    "            currentCell = sheet.cell(row = rowNum + 1 , column = colNum + 1)\n",
    "            currentCell.value = (colNum+1)*(rowNum+1)\n",
    "    \n",
    "wb.save('multiplicationTable.xlsx')"
   ]
  }
 ],
 "metadata": {
  "kernelspec": {
   "display_name": "Python [conda env:Anaconda3]",
   "language": "python",
   "name": "conda-env-Anaconda3-py"
  },
  "language_info": {
   "codemirror_mode": {
    "name": "ipython",
    "version": 3
   },
   "file_extension": ".py",
   "mimetype": "text/x-python",
   "name": "python",
   "nbconvert_exporter": "python",
   "pygments_lexer": "ipython3",
   "version": "3.5.2"
  }
 },
 "nbformat": 4,
 "nbformat_minor": 1
}
