{
 "cells": [
  {
   "cell_type": "code",
   "execution_count": 1,
   "metadata": {
    "collapsed": true
   },
   "outputs": [],
   "source": [
    "# ch7 使用正規表示式進行模式比對"
   ]
  },
  {
   "cell_type": "code",
   "execution_count": 9,
   "metadata": {
    "collapsed": false
   },
   "outputs": [
    {
     "name": "stdout",
     "output_type": "stream",
     "text": [
      "455-555-4242 is a phone number:\n",
      "True\n",
      "abc is a phone number:\n",
      "False\n"
     ]
    }
   ],
   "source": [
    "# isPhoneNumber\n",
    "\n",
    "def isPhoneNumber(text):\n",
    "    if len(text) != 12:\n",
    "        return False \n",
    "    for i in range(0,3):\n",
    "        if not text[i].isdecimal():\n",
    "            return False\n",
    "        if text[3] != '-':\n",
    "            return False\n",
    "        for i in range(4,7):\n",
    "            if not text[i].isdecimal():\n",
    "                return False\n",
    "        if text[7] != '-':\n",
    "            return False \n",
    "        for i in range(8,12):\n",
    "            if not text[i].isdecimal():\n",
    "                return False\n",
    "            return True\n",
    "print('455-555-4242 is a phone number:')\n",
    "print(isPhoneNumber('415-555-4242'))\n",
    "print('abc is a phone number:')\n",
    "print(isPhoneNumber('abc'))"
   ]
  },
  {
   "cell_type": "code",
   "execution_count": 12,
   "metadata": {
    "collapsed": false
   },
   "outputs": [
    {
     "name": "stdout",
     "output_type": "stream",
     "text": [
      "Phone number found: 415-555-1011\n",
      "Phone number found: 415-555-9999\n",
      "Done\n"
     ]
    }
   ],
   "source": [
    "def isPhoneNumber(text):\n",
    "    if len(text) != 12:\n",
    "        return False \n",
    "    for i in range(0,3):\n",
    "        if not text[i].isdecimal():\n",
    "            return False\n",
    "        if text[3] != '-':\n",
    "            return False\n",
    "        for i in range(4,7):\n",
    "            if not text[i].isdecimal():\n",
    "                return False\n",
    "        if text[7] != '-':\n",
    "            return False \n",
    "        for i in range(8,12):\n",
    "            if not text[i].isdecimal():\n",
    "                return False\n",
    "            return True\n",
    "message = 'Call me at 415-555-1011 tomorrow. 415-555-9999 is my office'\n",
    "for i in range(len(message)):\n",
    "    chunk = message[i:i+12]\n",
    "    if isPhoneNumber(chunk):\n",
    "        print('Phone number found: '+chunk)\n",
    "print('Done')"
   ]
  },
  {
   "cell_type": "code",
   "execution_count": 15,
   "metadata": {
    "collapsed": false
   },
   "outputs": [
    {
     "name": "stdout",
     "output_type": "stream",
     "text": [
      "Phone number found: 415-555-4242\n",
      "Phone number found: 416-555-4242\n"
     ]
    }
   ],
   "source": [
    "#正規式模組: re\n",
    "#Regex物件的search()方法可尋找傳入的字串,搜尋比對符合該正規表示式所有的內容\n",
    "#若沒有找到,會返回None\n",
    "#如果找到則會返回Match物件, 其物件中有個group()方法\n",
    "import re\n",
    "phoneNumRegex = re.compile(r'\\d\\d\\d-\\d\\d\\d-\\d\\d\\d\\d')   #r表示原始字串\n",
    "mo = phoneNumRegex.search('My number is 415-555-4242.')  \n",
    "print('Phone number found: '+ mo.group())\n",
    "mo1 = phoneNumRegex.search('My number is 416-555-4242.')  \n",
    "print('Phone number found: '+ mo1.group())"
   ]
  },
  {
   "cell_type": "code",
   "execution_count": 16,
   "metadata": {
    "collapsed": true
   },
   "outputs": [],
   "source": [
    "#正規表示式\n",
    "#1. 引入正規表示式模組 import re\n",
    "#2. 使用re.compile()函示建立Regex物件(原始字串)\n",
    "#3. 對Regex物件的search()方法傳入想要尋找的字串會返回一個March物件\n",
    "#4. 呼叫Match物件的group()方法, 返回實際比對符合的字串"
   ]
  },
  {
   "cell_type": "code",
   "execution_count": 29,
   "metadata": {
    "collapsed": false
   },
   "outputs": [
    {
     "name": "stdout",
     "output_type": "stream",
     "text": [
      "415\n",
      "555-4242\n",
      "415-555-4242\n",
      "('415', '555-4242')\n",
      "415\n",
      "555-4242\n"
     ]
    }
   ],
   "source": [
    "phoneNumRegex = re.compile(r'(\\d\\d\\d)-(\\d\\d\\d-\\d\\d\\d\\d)')\n",
    "mo = phoneNumRegex.search('My number is 415-555-4242.')\n",
    "print(mo.group(1))\n",
    "print(mo.group(2))\n",
    "print(mo.group())\n",
    "print(mo.groups()) #一次取得所有分組groups 有's'\n",
    "\n",
    "areaCode, mainNumber = mo.groups()\n",
    "print(areaCode)\n",
    "print(mainNumber)"
   ]
  },
  {
   "cell_type": "code",
   "execution_count": 32,
   "metadata": {
    "collapsed": false
   },
   "outputs": [
    {
     "data": {
      "text/plain": [
       "'(415)'"
      ]
     },
     "execution_count": 32,
     "metadata": {},
     "output_type": "execute_result"
    }
   ],
   "source": [
    "import re\n",
    "phoneNumRegex = re.compile(r'(\\(\\d\\d\\d\\)) (\\d\\d\\d-\\d\\d\\d\\d)')\n",
    "mo = phoneNumRegex.search('My phone number is (415) 555-4242.')\n",
    "mo.group(1)"
   ]
  },
  {
   "cell_type": "code",
   "execution_count": 33,
   "metadata": {
    "collapsed": true
   },
   "outputs": [],
   "source": [
    "#使用多個管道比對多個分組\n",
    "# |字元 稱為「管道 (pipe)」"
   ]
  },
  {
   "cell_type": "code",
   "execution_count": 52,
   "metadata": {
    "collapsed": false
   },
   "outputs": [
    {
     "name": "stdout",
     "output_type": "stream",
     "text": [
      "Tina Fey\n",
      "Tina Fey\n"
     ]
    }
   ],
   "source": [
    "import re\n",
    "heroRegex = re.compile(r'Batamn|Tina Fey')\n",
    "mo1 = heroRegex.search('Batman and Tina Fey.')\n",
    "print(mo1.group())\n",
    "mo2 = heroRegex.search('Tina Fey and Batman')\n",
    "print(mo2.group())"
   ]
  },
  {
   "cell_type": "code",
   "execution_count": 53,
   "metadata": {
    "collapsed": false
   },
   "outputs": [
    {
     "name": "stdout",
     "output_type": "stream",
     "text": [
      "Batmobile\n",
      "mobile\n"
     ]
    }
   ],
   "source": [
    "batRegex = re.compile(r'Bat(man|mobile|copter|bat)')\n",
    "mo = batRegex.search('Batmobile lost a wheel')\n",
    "print(mo.group())\n",
    "print(mo.group(1))"
   ]
  },
  {
   "cell_type": "code",
   "execution_count": 63,
   "metadata": {
    "collapsed": false
   },
   "outputs": [
    {
     "data": {
      "text/plain": [
       "'Batman ?'"
      ]
     },
     "execution_count": 63,
     "metadata": {},
     "output_type": "execute_result"
    }
   ],
   "source": [
    "#使用問號作為可選擇性的比對\n",
    "import re\n",
    "batRegex = re.compile(r'Bat(wo)?man \\?')\n",
    "mo1 = batRegex.search('The Adventures of Batman ?')\n",
    "mo1.group()\n",
    "\n",
    "#正規表示式中的(wo)?部分是指模式wo是可選擇性的分組,在比對時,wo是否出現都可以\n",
    "#假如需要比對真正的?字元時,可用反斜線轉義: \\?"
   ]
  },
  {
   "cell_type": "code",
   "execution_count": 72,
   "metadata": {
    "collapsed": false
   },
   "outputs": [
    {
     "name": "stdout",
     "output_type": "stream",
     "text": [
      "Batman\n",
      "Batwoman\n",
      "Batwowowowowowowoman\n"
     ]
    }
   ],
   "source": [
    "# 使用(*)星號比對符合零次或多次\n",
    "#在星號前的分組,在要尋找的文字中有出現任意次, 可以不出現or出現很多次\n",
    "batRegex = re.compile(r'Bat(wo)*man')\n",
    "mo1 = batRegex.search('The Adventures of Batman')\n",
    "print(mo1.group())\n",
    "\n",
    "mo2 = batRegex.search('The Adventures of Batwoman')\n",
    "print(mo2.group())\n",
    "\n",
    "mo3 = batRegex.search('The Adventures of Batwowowowowowowoman')\n",
    "print(mo3.group())"
   ]
  },
  {
   "cell_type": "code",
   "execution_count": 76,
   "metadata": {
    "collapsed": false
   },
   "outputs": [
    {
     "name": "stdout",
     "output_type": "stream",
     "text": [
      "Batwoman\n"
     ]
    },
    {
     "ename": "AttributeError",
     "evalue": "'NoneType' object has no attribute 'group'",
     "output_type": "error",
     "traceback": [
      "\u001b[1;31m---------------------------------------------------------------------------\u001b[0m",
      "\u001b[1;31mAttributeError\u001b[0m                            Traceback (most recent call last)",
      "\u001b[1;32m<ipython-input-76-83a42edab723>\u001b[0m in \u001b[0;36m<module>\u001b[1;34m()\u001b[0m\n\u001b[0;32m      5\u001b[0m \u001b[1;33m\u001b[0m\u001b[0m\n\u001b[0;32m      6\u001b[0m \u001b[0mmo2\u001b[0m \u001b[1;33m=\u001b[0m \u001b[0mbatRegex\u001b[0m\u001b[1;33m.\u001b[0m\u001b[0msearch\u001b[0m\u001b[1;33m(\u001b[0m\u001b[1;34m'The Adventures of Batman'\u001b[0m\u001b[1;33m)\u001b[0m\u001b[1;33m\u001b[0m\u001b[0m\n\u001b[1;32m----> 7\u001b[1;33m \u001b[0mprint\u001b[0m\u001b[1;33m(\u001b[0m\u001b[0mmo2\u001b[0m\u001b[1;33m.\u001b[0m\u001b[0mgroup\u001b[0m\u001b[1;33m(\u001b[0m\u001b[1;33m)\u001b[0m\u001b[1;33m)\u001b[0m\u001b[1;33m\u001b[0m\u001b[0m\n\u001b[0m",
      "\u001b[1;31mAttributeError\u001b[0m: 'NoneType' object has no attribute 'group'"
     ]
    }
   ],
   "source": [
    "# 使用(+)加號比對符合>=1次\n",
    "batRegex = re.compile(r'Bat(wo)+man')\n",
    "mo1 = batRegex.search('The Adventures of Batwoman')\n",
    "print(mo1.group())\n",
    "\n",
    "mo2 = batRegex.search('The Adventures of Batman')\n",
    "print(mo2.group())"
   ]
  },
  {
   "cell_type": "code",
   "execution_count": 82,
   "metadata": {
    "collapsed": false
   },
   "outputs": [
    {
     "name": "stdout",
     "output_type": "stream",
     "text": [
      "hahaha\n",
      "True\n"
     ]
    }
   ],
   "source": [
    "#使用大括號指定比對符合次數\n",
    "\n",
    "haRegex = re.compile(r'(ha){3}')\n",
    "mo1 = haRegex.search('hahaha')\n",
    "print(mo1.group())\n",
    "\n",
    "mo21 = haRegex.search('ha')\n",
    "print(mo21 == None)"
   ]
  },
  {
   "cell_type": "code",
   "execution_count": 87,
   "metadata": {
    "collapsed": false
   },
   "outputs": [
    {
     "name": "stdout",
     "output_type": "stream",
     "text": [
      "hahahahaha\n",
      "hahaha\n"
     ]
    }
   ],
   "source": [
    "#greedy and non-greedy比對\n",
    "#greedy ->  正規表示式預設, 含糊多重意義的情況下,盡可能找到最常符合比對的字串\n",
    "#non- greedy -> 大括弧的非貪婪版本則會找到最短符合比對的字串,設定的方式是在結束(右側)的大括弧後加上一個問號\n",
    "\n",
    "greedyHaRegex = re.compile(r'(ha){3,5}')\n",
    "mo1 = greedyHaRegex.search('hahahahahahahaha')\n",
    "print(mo1.group())\n",
    "nongreedyHaRegex = re.compile(r'(ha){3,5}?')\n",
    "mo2 = nongreedyHaRegex.search('hahahahahahahaha')\n",
    "print(mo2.group())"
   ]
  },
  {
   "cell_type": "code",
   "execution_count": 93,
   "metadata": {
    "collapsed": false
   },
   "outputs": [
    {
     "name": "stdout",
     "output_type": "stream",
     "text": [
      "415-555-9999\n",
      "['415-555-9999', '415-555-9998']\n",
      "[('415', '555', '9999'), ('415', '555', '9998')]\n"
     ]
    }
   ],
   "source": [
    "#findall()方法\n",
    "# 如果在正規表示式中有分組, findall會返回一個多元組的串列\n",
    "\n",
    "phoneNumRegex = re.compile(r'\\d\\d\\d-\\d\\d\\d-\\d\\d\\d\\d')\n",
    "mo = phoneNumRegex.search('Cell: 415-555-9999 Work: 415-555-9998')\n",
    "print(mo.group())\n",
    "\n",
    "phoneNumRegex = re.compile(r'\\d\\d\\d-\\d\\d\\d-\\d\\d\\d\\d')\n",
    "a = phoneNumRegex.findall('Cell: 415-555-9999 Work: 415-555-9998')\n",
    "print(a)\n",
    "\n",
    "phoneNumRegex = re.compile(r'(\\d\\d\\d)-(\\d\\d\\d)-(\\d\\d\\d\\d)')\n",
    "b = phoneNumRegex.findall('Cell: 415-555-9999 Work: 415-555-9998')\n",
    "print(b)\n"
   ]
  },
  {
   "cell_type": "code",
   "execution_count": 108,
   "metadata": {
    "collapsed": false
   },
   "outputs": [
    {
     "name": "stdout",
     "output_type": "stream",
     "text": [
      "\\d   0-9任何數字\n",
      "\\D   除了0-9的數字以外的任何字元\n",
      "\\w   任何字母、數字或底線字元(可想成是比對單字字元)\n",
      "\\W   除了字母、數字和底線以外的任何字元\n",
      "\\s   空格、定位符號或換行符號(可想成是比對空白字元)\n",
      "\\S   除了空格、定位符號和換行符號\n"
     ]
    }
   ],
   "source": [
    "#字元分類\n",
    "\n",
    "print(\n",
    "'''\\d   0-9任何數字\n",
    "\\D   除了0-9的數字以外的任何字元\n",
    "\\w   任何字母、數字或底線字元(可想成是比對單字字元)\n",
    "\\W   除了字母、數字和底線以外的任何字元\n",
    "\\s   空格、定位符號或換行符號(可想成是比對空白字元)\n",
    "\\S   除了空格、定位符號和換行符號''')"
   ]
  },
  {
   "cell_type": "code",
   "execution_count": 113,
   "metadata": {
    "collapsed": false
   },
   "outputs": [
    {
     "data": {
      "text/plain": [
       "['12 drummers',\n",
       " '11 pipers',\n",
       " '10 loreds',\n",
       " '9 ladies',\n",
       " '8 maids',\n",
       " '7 swans',\n",
       " '6 geese',\n",
       " '5 rings',\n",
       " '4 birds',\n",
       " '3 hens',\n",
       " '2 doves',\n",
       " '1 partridge']"
      ]
     },
     "execution_count": 113,
     "metadata": {},
     "output_type": "execute_result"
    }
   ],
   "source": [
    "xmasRegex = re.compile(r'\\d+\\s\\w+')\n",
    "xmasRegex.findall('12 drummers , 11 pipers , 10 loreds, 9 ladies, 8 maids , 7 swans, 6 geese, 5 rings, 4 birds , 3 hens ,2 doves, 1 partridge')"
   ]
  },
  {
   "cell_type": "code",
   "execution_count": 117,
   "metadata": {
    "collapsed": false
   },
   "outputs": [
    {
     "name": "stdout",
     "output_type": "stream",
     "text": [
      "['o', 'o', 'o', 'e', 'a', 'a', 'o', 'o', 'A', 'O', 'O']\n",
      "['R', 'b', 'c', 'p', ' ', 't', 's', ' ', 'b', 'b', 'y', ' ', 'f', 'd', '.', ' ', 'B', 'B', 'Y', ' ', 'F', 'D', '.']\n"
     ]
    }
   ],
   "source": [
    "#建立屬於自己的字元分類\n",
    "\n",
    "vowelRegex = re.compile(r'[aeiouAEIOU]')\n",
    "print(vowelRegex.findall('Robocop eats baby food. BABY FOOD.'))\n",
    "vowelRegex = re.compile(r'[^aeiouAEIOU]') #在字元飛累的左側中括弧後寫上插入符號^取得相反字元分類\n",
    "print(vowelRegex.findall('Robocop eats baby food. BABY FOOD.'))"
   ]
  },
  {
   "cell_type": "code",
   "execution_count": 123,
   "metadata": {
    "collapsed": false
   },
   "outputs": [
    {
     "name": "stdout",
     "output_type": "stream",
     "text": [
      "<_sre.SRE_Match object; span=(0, 5), match='Hello'>\n"
     ]
    },
    {
     "data": {
      "text/plain": [
       "True"
      ]
     },
     "execution_count": 123,
     "metadata": {},
     "output_type": "execute_result"
    }
   ],
   "source": [
    "# 在正規表示式的起始處加上^字元，表示比對符合是發生在被尋找文字的起始處\n",
    "# 在正規表示式的結尾處加上$字元，表示比對符合是發生在被尋找文字的結尾處\n",
    "beginWithHello = re.compile(r'^Hello') \n",
    "print(beginWithHello.search('Hello world'))\n",
    "beginWithHello.search('He said hello.') == None"
   ]
  },
  {
   "cell_type": "code",
   "execution_count": 129,
   "metadata": {
    "collapsed": false
   },
   "outputs": [
    {
     "name": "stdout",
     "output_type": "stream",
     "text": [
      "0\n"
     ]
    },
    {
     "data": {
      "text/plain": [
       "True"
      ]
     },
     "execution_count": 129,
     "metadata": {},
     "output_type": "execute_result"
    }
   ],
   "source": [
    "endsWithNumber = re.compile(r'\\d$') #r'\\d$' 是要比對找出以數字0-9為結尾的字串\n",
    "a = endsWithNumber.search('1234567890')\n",
    "print(a.group())\n",
    "endsWithNumber.search('ur number is 42, hi') == None"
   ]
  },
  {
   "cell_type": "code",
   "execution_count": 132,
   "metadata": {
    "collapsed": false
   },
   "outputs": [
    {
     "name": "stdout",
     "output_type": "stream",
     "text": [
      "False\n",
      "True\n"
     ]
    }
   ],
   "source": [
    "wholeStringIsNum = re.compile(r'^\\d+$')\n",
    "wholeStringIsNum.search('1234567890')\n",
    "print(wholeStringIsNum.search('1234567890') == None)\n",
    "print(wholeStringIsNum.search('1234dfwedfsdf567890') == None)"
   ]
  },
  {
   "cell_type": "code",
   "execution_count": 135,
   "metadata": {
    "collapsed": false
   },
   "outputs": [
    {
     "data": {
      "text/plain": [
       "['cat', 'hat', 'sat', 'lat', 'mat']"
      ]
     },
     "execution_count": 135,
     "metadata": {},
     "output_type": "execute_result"
    }
   ],
   "source": [
    "#萬用字元\n",
    "\n",
    "atRegex = re.compile(r'.at')\n",
    "atRegex.findall('The cat in the hat sat on the flat mat.')"
   ]
  },
  {
   "cell_type": "code",
   "execution_count": 138,
   "metadata": {
    "collapsed": false
   },
   "outputs": [
    {
     "name": "stdout",
     "output_type": "stream",
     "text": [
      "Al\n",
      "Sweigart\n"
     ]
    }
   ],
   "source": [
    "#   .字元 -> 除了換行符號之外的所有單個字元\n",
    "#   *字元 -> 前置的字元出現零次或多次以上\n",
    "nameRegex = re.compile(r'First Name: (.*) Last Name: (.*)')\n",
    "mo = nameRegex.search('First Name: Al Last Name: Sweigart')\n",
    "print(mo.group(1))\n",
    "print(mo.group(2))"
   ]
  },
  {
   "cell_type": "code",
   "execution_count": 143,
   "metadata": {
    "collapsed": false
   },
   "outputs": [
    {
     "name": "stdout",
     "output_type": "stream",
     "text": [
      "<To serve man>\n",
      "<To serve man> for dinner>\n"
     ]
    }
   ],
   "source": [
    "#使用 .*比對尋找所有字元\n",
    "nongreedyRegex = re.compile(r'<.*?>')\n",
    "mo = nongreedyRegex.search('<To serve man> for dinner>.')\n",
    "print(mo.group())\n",
    "\n",
    "greedyRegex = re.compile(r'<.*>')\n",
    "mo1 = greedyRegex.search('<To serve man> for dinner>.')\n",
    "print(mo1.group())"
   ]
  },
  {
   "cell_type": "code",
   "execution_count": 147,
   "metadata": {
    "collapsed": false
   },
   "outputs": [
    {
     "name": "stdout",
     "output_type": "stream",
     "text": [
      "\n",
      ".*的用法在比對尋找時會找出除了換行符號以外的所有東西\n",
      "若想連換行符號也要比對進去，可利用傳入re.DOTALL當作re.compile()的第二個引數\n",
      "\n",
      "Serve the public trust. \n",
      "Serve the public trust. \n",
      "Protext the innocent. \n",
      "Uphold the law.\n"
     ]
    }
   ],
   "source": [
    "#使用 . 字元 比對找出換行符號\n",
    "\n",
    "print(\n",
    "'''\n",
    ".*的用法在比對尋找時會找出除了換行符號以外的所有東西\n",
    "若想連換行符號也要比對進去，可利用傳入re.DOTALL當作re.compile()的第二個引數\n",
    "'''\n",
    ")\n",
    "noNewlineRegex = re.compile('.*')\n",
    "print(noNewlineRegex.search('Serve the public trust. \\nProtext the innocent. \\nUphold the law.').group())\n",
    "\n",
    "noNewlineRegex = re.compile('.*', re.DOTALL)\n",
    "print(noNewlineRegex.search('Serve the public trust. \\nProtext the innocent. \\nUphold the law.').group())\n"
   ]
  },
  {
   "cell_type": "code",
   "execution_count": 148,
   "metadata": {
    "collapsed": false
   },
   "outputs": [
    {
     "name": "stdout",
     "output_type": "stream",
     "text": [
      "\n",
      "* ?      可比對找出符合前面分組中正規表示式0次or1次\n",
      "* *      可比對找出符合前面分組中正規表示式0次or多次\n",
      "* +      可比對找出符合前面分組中正規表示式1次or多次\n",
      "* {n}    可比對找出符合前面分組中正規表示式n次\n",
      "* {n,}   可比對找出符合前面分組中正規表示式n次以上\n",
      "* {,m}   可比對找出符合前面分組中正規表示式0次到m次\n",
      "* {n,m}  可比對找出符合前面分組中正規表示式n次以上,最多m次\n",
      "* {n,m}? or *? or +? 為使用貪婪模式來比對\n",
      "* ^spam  是指字串要以spam開頭\n",
      "* spam$  是指字串要以spam結尾\n",
      "* .      比對找出所有字元，但換行符號除外\n",
      "* \\d \\w \\s 分別為比對找出數字、單字和空白\n",
      "* \\D \\W \\S 分別為比對找出數字以外、單字已為和空白以外的所有字元\n",
      "* [abc] 比對找出中括弧內指定的字元\n",
      "* [^abc] 比對找出除了中括弧內的任意字元\n",
      "\n",
      "\n"
     ]
    }
   ],
   "source": [
    "# 彙整複習正規表示式所使用的符號\n",
    "print(\n",
    "\"\"\"\n",
    "* ?      可比對找出符合前面分組中正規表示式0次or1次\n",
    "* *      可比對找出符合前面分組中正規表示式0次or多次\n",
    "* +      可比對找出符合前面分組中正規表示式1次or多次\n",
    "* {n}    可比對找出符合前面分組中正規表示式n次\n",
    "* {n,}   可比對找出符合前面分組中正規表示式n次以上\n",
    "* {,m}   可比對找出符合前面分組中正規表示式0次到m次\n",
    "* {n,m}  可比對找出符合前面分組中正規表示式n次以上,最多m次\n",
    "* {n,m}? or *? or +? 為使用貪婪模式來比對\n",
    "* ^spam  是指字串要以spam開頭\n",
    "* spam$  是指字串要以spam結尾\n",
    "* .      比對找出所有字元，但換行符號除外\n",
    "* \\d \\w \\s 分別為比對找出數字、單字和空白\n",
    "* \\D \\W \\S 分別為比對找出數字以外、單字已為和空白以外的所有字元\n",
    "* [abc] 比對找出中括弧內指定的字元\n",
    "* [^abc] 比對找出除了中括弧內的任意字元\n",
    "\n",
    "\"\"\"\n",
    ")"
   ]
  },
  {
   "cell_type": "code",
   "execution_count": 152,
   "metadata": {
    "collapsed": false
   },
   "outputs": [
    {
     "name": "stdout",
     "output_type": "stream",
     "text": [
      "\n",
      "想讓正規表示式不區分大小寫,\n",
      "可利用傳入re.IGNORECASE 或 re.I當作re.compile()的第二個引數\n",
      "\n",
      "Robocop\n",
      "RobocOP\n"
     ]
    }
   ],
   "source": [
    "# 比對時不區分大小寫\n",
    "print(\n",
    "'''\n",
    "想讓正規表示式不區分大小寫,\n",
    "可利用傳入re.IGNORECASE 或 re.I當作re.compile()的第二個引數\n",
    "'''\n",
    ")\n",
    "\n",
    "robocop = re.compile(r'robocop', re.I)\n",
    "print(robocop.search('Robocop os part man, part machine, all cop.').group())\n",
    "print(robocop.search('RobocOP os part man, part machine, all cop.').group())"
   ]
  },
  {
   "cell_type": "code",
   "execution_count": 158,
   "metadata": {
    "collapsed": false
   },
   "outputs": [
    {
     "name": "stdout",
     "output_type": "stream",
     "text": [
      "\n",
      "Regex物件的sub()方法要傳入兩個引數\n",
      "第一個引數是用來取代找出的內容\n",
      "第二個引數是正規表示式要比對處理的字串\n",
      "sub()方法會返回取代完成後的字串\n",
      "\n",
      "CENSORED gave the secret documents to CENSORED\n"
     ]
    }
   ],
   "source": [
    "# sub()方法取代字串\n",
    "\n",
    "print(\n",
    "\"\"\"\n",
    "Regex物件的sub()方法要傳入兩個引數\n",
    "第一個引數是用來取代找出的內容\n",
    "第二個引數是正規表示式要比對處理的字串\n",
    "sub()方法會返回取代完成後的字串\n",
    "\"\"\"\n",
    ")\n",
    "\n",
    "namesRegex = re.compile(r'Agent \\w+')\n",
    "print(namesRegex.sub('CENSORED', 'Agent Alice gave the secret documents to Agent Bob'))"
   ]
  },
  {
   "cell_type": "code",
   "execution_count": 160,
   "metadata": {
    "collapsed": false
   },
   "outputs": [
    {
     "data": {
      "text/plain": [
       "'A**** told C**** that E**** knew B**** was a double agent.'"
      ]
     },
     "execution_count": 160,
     "metadata": {},
     "output_type": "execute_result"
    }
   ],
   "source": [
    "agentNamesRegex = re.compile(r'Agent (\\w)\\w*')\n",
    "agentNamesRegex.sub(r'\\1****' , 'Agent Alice told Agent Carol that Agent Eve knew Agent Bob was a double agent.')"
   ]
  },
  {
   "cell_type": "code",
   "execution_count": 163,
   "metadata": {
    "collapsed": false
   },
   "outputs": [],
   "source": [
    "#管理複雜的正規表示式\n",
    "#可藉由將re.VERBOSE當作第二個引數傳入re.compile()中,開啟「詳細模式(verbose mode)」\n",
    "phoneRegex = re.compile(r'''(\n",
    "(\\d{3}|\\(\\d{3}\\))?           #area code\n",
    "(\\s|-|\\.)?                   #seperate\n",
    "\\d{3}                        #first 3 digits\n",
    "(\\s|-|\\.)                    #seperate\n",
    "\\d{4}                        #last 4 digits\n",
    "(\\s*(ext|x|ext.)\\s*\\d{2,5})? #extension\n",
    ")''',re.VERBOSE)"
   ]
  },
  {
   "cell_type": "code",
   "execution_count": 171,
   "metadata": {
    "collapsed": false
   },
   "outputs": [
    {
     "data": {
      "text/plain": [
       "'FOO'"
      ]
     },
     "execution_count": 171,
     "metadata": {},
     "output_type": "execute_result"
    }
   ],
   "source": [
    "#組合使用 re.IGNORECASE  re.DOTALL  re.VERBOSE\n",
    "\n",
    "someRegexValue = re.compile('foo',re.IGNORECASE | re.DOTALL | re.VERBOSE)\n",
    "someRegexValue.search(r'FOO foo Foo').group()"
   ]
  },
  {
   "cell_type": "code",
   "execution_count": 199,
   "metadata": {
    "collapsed": false,
    "scrolled": true
   },
   "outputs": [
    {
     "name": "stdout",
     "output_type": "stream",
     "text": [
      "No phone numbers or email addresses found.\n"
     ]
    }
   ],
   "source": [
    "#專題 : 電話號碼和email的擷取程式\n",
    "\n",
    "#phoneAndEmail.py\n",
    "\n",
    "#!python3\n",
    "# phoneAndEmail.py - Finds phone numbers and email address on the clipboard\n",
    "\n",
    "import pyperclip, re \n",
    "\n",
    "phoneRegex = re.compile(r'''(\n",
    "(\\d{3}|\\(\\d{3}\\))?           #area code\n",
    "(\\s|-|\\.)?                   #seperate\n",
    "\\d{3}                        #first 3 digits\n",
    "(\\s|-|\\.)                    #seperate\n",
    "\\d{4}                        #last 4 digits\n",
    "(\\s*(ext|x|ext.)\\s*\\d{2,5})? #extension\n",
    ")''',re.VERBOSE)\n",
    "\n",
    "# TODO: Create email regex.\n",
    "\n",
    "emailRegex = re.compile(r'''(\n",
    "[a-zA-Z0-9._%+-]+           #username\n",
    "@                           #@ symbol\n",
    "[a-zA-Z0-9._%+-]+           #domain name\n",
    "(\\.[a-zA-Z]{2,4})           #dot-something  #\n",
    ")''', re.VERBOSE)\n",
    "\n",
    "# TODO: Find matches in clipboard text.\n",
    "\n",
    "text = str(pyperclip.paste())\n",
    "matches = []\n",
    "for groups in phoneRegex.findall(text):\n",
    "    phoneNum = '-'.join([groups[1],groups[3],groups[5]])\n",
    "    if groups[5] != '':\n",
    "        phoneNum += ' x' + groups[6]\n",
    "    matches.append(groups[0])\n",
    "for groups in emailRegex.findall(text):\n",
    "    matches.append(groups[0])\n",
    "        \n",
    "\n",
    "# TODO: Copy results to the clipboard.\n",
    "\n",
    "if len(matches) > 0:\n",
    "    pyperclip.copy('\\n'.join(matches))\n",
    "    print('Copied to clipboard: ')\n",
    "    print('\\n'.join(matches))\n",
    "else:\n",
    "    print('No phone numbers or email addresses found.')"
   ]
  },
  {
   "cell_type": "code",
   "execution_count": 241,
   "metadata": {
    "collapsed": false
   },
   "outputs": [
    {
     "name": "stdout",
     "output_type": "stream",
     "text": [
      "['A Lin', 'B Lin', 'C Lin']\n"
     ]
    }
   ],
   "source": [
    "import re\n",
    "text = '''\n",
    "A Lin\n",
    "B Lin\n",
    "C Lin\n",
    "d Lin\n",
    "e Lin\n",
    "f Lin\n",
    "F lin\n",
    "'''\n",
    "LinRegex = re.compile(r'[A-Z][a-z]*\\sLin',re.VERBOSE)\n",
    "print(LinRegex.findall(text))\n"
   ]
  },
  {
   "cell_type": "code",
   "execution_count": 242,
   "metadata": {
    "collapsed": false
   },
   "outputs": [
    {
     "name": "stdout",
     "output_type": "stream",
     "text": [
      "['42', '1,234', '6,368,745', '1,234,567,789']\n"
     ]
    }
   ],
   "source": [
    "import re\n",
    "\n",
    "text = '''\n",
    "42\n",
    "1,234\n",
    "6,368,745\n",
    "12,34,567\n",
    "1234\n",
    "1,234,567,789\n",
    "'''\n",
    "\n",
    "mo = re.compile(r'''\n",
    "    ^\n",
    "    \\d{1,3}(?:,\\d{3})*\n",
    "    $\n",
    "''', re.VERBOSE | re.MULTILINE)\n",
    "\n",
    "print(mo.findall(text))"
   ]
  },
  {
   "cell_type": "code",
   "execution_count": 328,
   "metadata": {
    "collapsed": false
   },
   "outputs": [
    {
     "name": "stdout",
     "output_type": "stream",
     "text": [
      "ur password: aaaaaAAaaaaa789 is not strong.\n",
      "ur password: aaaaAAA123 is not strong.\n"
     ]
    }
   ],
   "source": [
    "# verify strong passwords\n",
    "import re\n",
    "def strong_passwords(text):\n",
    "    pwRegex = re.compile(r'''\n",
    "    [A-Za-z0-9@#$%^&+=]{8,}\n",
    "    ''')\n",
    "    \n",
    "    pw = pwRegex.search(text)\n",
    "    if pw == None:\n",
    "        print('ur password: '+text+ ' is not strong.')\n",
    "    else:\n",
    "        print('ur password: '+text+ ' is strong.')\n",
    "\n",
    "strong_passwords(text)\n",
    "pw = 'aaaaAAA123'\n",
    "strong_passwords(pw)"
   ]
  },
  {
   "cell_type": "code",
   "execution_count": 300,
   "metadata": {
    "collapsed": false
   },
   "outputs": [
    {
     "data": {
      "text/plain": [
       "'asjkeASD3'"
      ]
     },
     "execution_count": 300,
     "metadata": {},
     "output_type": "execute_result"
    }
   ],
   "source": [
    "pwRegex = re.compile(r'[A-Z][a-z]*\\d',re.I)\n",
    "pw = pwRegex.search('asjkeASD3')\n",
    "pw.group()"
   ]
  }
 ],
 "metadata": {
  "anaconda-cloud": {},
  "kernelspec": {
   "display_name": "Python [conda env:Anaconda3]",
   "language": "python",
   "name": "conda-env-Anaconda3-py"
  },
  "language_info": {
   "codemirror_mode": {
    "name": "ipython",
    "version": 3
   },
   "file_extension": ".py",
   "mimetype": "text/x-python",
   "name": "python",
   "nbconvert_exporter": "python",
   "pygments_lexer": "ipython3",
   "version": "3.5.2"
  }
 },
 "nbformat": 4,
 "nbformat_minor": 1
}
