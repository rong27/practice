{
 "cells": [
  {
   "cell_type": "code",
   "execution_count": 1,
   "metadata": {
    "collapsed": true
   },
   "outputs": [],
   "source": [
    "# shutil模組(或稱shell工具)\n",
    "# 此模組中含有一些函示可在python程式中複製、搬移、改名和刪除檔案"
   ]
  },
  {
   "cell_type": "code",
   "execution_count": 2,
   "metadata": {
    "collapsed": true
   },
   "outputs": [],
   "source": [
    "# 檔案和資料夾的複製\n",
    "# shutil模組提供了可以複製檔案和整個資料夾的函式"
   ]
  },
  {
   "cell_type": "code",
   "execution_count": 18,
   "metadata": {
    "collapsed": false
   },
   "outputs": [
    {
     "data": {
      "text/plain": [
       "'D://joy.lin/test/test/hi2.txt'"
      ]
     },
     "execution_count": 18,
     "metadata": {},
     "output_type": "execute_result"
    }
   ],
   "source": [
    "# shutil.copy(source , destination)\n",
    "import shutil, os\n",
    "os.chdir('D://joy.lin/')\n",
    "shutil.copy('D://joy.lin/test/a.txt', 'D://joy.lin/test/test')\n",
    "# 把a.txt複製到test資料夾下\n",
    "shutil.copy('D://joy.lin/test/hi.txt', 'D://joy.lin/test/test/hi2.txt')\n",
    "# 把hi.txt複製到test資料夾下並命名為hi2.txt\n",
    "# shutil.copy()會複製檔案\n",
    "# shutil.copytree()會複製整個資料夾以及該資料夾裡面的所有子資料夾及檔案"
   ]
  },
  {
   "cell_type": "code",
   "execution_count": 26,
   "metadata": {
    "collapsed": false,
    "scrolled": false
   },
   "outputs": [
    {
     "data": {
      "text/plain": [
       "'D://joy.lin/move'"
      ]
     },
     "execution_count": 26,
     "metadata": {},
     "output_type": "execute_result"
    }
   ],
   "source": [
    "# 檔案和資料夾的搬移和改名\n",
    "# shutil.move(source , destination)\n",
    "# 可將source路徑的資料夾搬移到destination路徑，並返回搬移新位置的絕對路徑的字串\n",
    "# 若搬移的過程中檔名一樣,會將原本的file覆蓋過去,使用shutil.move()要留意\n",
    "\n",
    "# shutil.move('D://joy.lin/test/himove.txt','D://joy.lin/test/test/himove.txt')\n",
    "shutil.move('D://joy.lin/test/himove1.txt','D://joy.lin/move')\n",
    "#因為找不到move資料夾,所以就會將himove1移動出來joy.lin這層,然後將himove1變成沒有副檔名的一個檔案"
   ]
  },
  {
   "cell_type": "code",
   "execution_count": 6,
   "metadata": {
    "collapsed": false
   },
   "outputs": [
    {
     "ename": "FileNotFoundError",
     "evalue": "[WinError 2] 系統找不到指定的檔案。: 'deleteme.txt'",
     "output_type": "error",
     "traceback": [
      "\u001b[1;31m---------------------------------------------------------------------------\u001b[0m",
      "\u001b[1;31mFileNotFoundError\u001b[0m                         Traceback (most recent call last)",
      "\u001b[1;32m<ipython-input-6-b5ca650715bf>\u001b[0m in \u001b[0;36m<module>\u001b[1;34m()\u001b[0m\n\u001b[0;32m     11\u001b[0m \u001b[1;32mfor\u001b[0m \u001b[0mfilename\u001b[0m \u001b[1;32min\u001b[0m \u001b[0mos\u001b[0m\u001b[1;33m.\u001b[0m\u001b[0mlistdir\u001b[0m\u001b[1;33m(\u001b[0m\u001b[1;34m'D:/joy.lin/test/del'\u001b[0m\u001b[1;33m)\u001b[0m\u001b[1;33m:\u001b[0m\u001b[1;33m\u001b[0m\u001b[0m\n\u001b[0;32m     12\u001b[0m     \u001b[1;32mif\u001b[0m \u001b[0mfilename\u001b[0m\u001b[1;33m.\u001b[0m\u001b[0mendswith\u001b[0m\u001b[1;33m(\u001b[0m\u001b[1;34m'.txt'\u001b[0m\u001b[1;33m)\u001b[0m\u001b[1;33m:\u001b[0m\u001b[1;33m\u001b[0m\u001b[0m\n\u001b[1;32m---> 13\u001b[1;33m         \u001b[0mos\u001b[0m\u001b[1;33m.\u001b[0m\u001b[0munlink\u001b[0m\u001b[1;33m(\u001b[0m\u001b[0mfilename\u001b[0m\u001b[1;33m)\u001b[0m\u001b[1;33m\u001b[0m\u001b[0m\n\u001b[0m\u001b[0;32m     14\u001b[0m \u001b[1;31m#         print(filename)\u001b[0m\u001b[1;33m\u001b[0m\u001b[1;33m\u001b[0m\u001b[0m\n\u001b[0;32m     15\u001b[0m \u001b[1;33m\u001b[0m\u001b[0m\n",
      "\u001b[1;31mFileNotFoundError\u001b[0m: [WinError 2] 系統找不到指定的檔案。: 'deleteme.txt'"
     ]
    }
   ],
   "source": [
    "# 永久刪除檔案和資料夾\n",
    "# 利用 os模組中的函式可刪除一個檔案或一個空資料夾\n",
    "# 利用shutil模組可以刪除一個資料夾及所有內容\n",
    "\n",
    "# 呼叫 os.unlink(path)可以刪除path路徑指到的檔案\n",
    "# 呼叫 os.rmdir(path)可以刪除path路徑指到的資料夾,但該資料夾必須是空的資料夾且不能有檔案或子資料夾\n",
    "# 呼叫 shutil.rmtree(path)可以刪除path路徑指到的資料夾,該資料夾中所有檔案跟子資料夾都會被刪除\n",
    "\n",
    "import os\n",
    "#以下可以先print出filename確認要刪除的檔案有哪些(因為是永久刪除)\n",
    "for filename in os.listdir('D:/joy.lin/test/del'):\n",
    "    if filename.endswith('.txt'):\n",
    "        print(filename) \n",
    "# os.unlink('D:/joy.lin/test/del/deleteme.txt')"
   ]
  },
  {
   "cell_type": "code",
   "execution_count": 15,
   "metadata": {
    "collapsed": false
   },
   "outputs": [
    {
     "name": "stdout",
     "output_type": "stream",
     "text": [
      "D:\\joy.lin\\test\n"
     ]
    }
   ],
   "source": [
    "# 使用send2trash模組的安全刪除\n",
    "# send2trash是第三方的模組,不是永久刪除,會先將檔案放到資源回收桶\n",
    "\n",
    "import send2trash\n",
    "os.chdir('D:/joy.lin/test')\n",
    "print(os.getcwd())\n",
    "baconFile = open('bacon.csv' ,'a') # creates the file\n",
    "baconFile.write('Bacon is not a vegetable.') #將'Bacon is not a vegetable.'寫入baconFile中\n",
    "baconFile.close()\n",
    "\n",
    "send2trash.send2trash('bacon.csv')"
   ]
  },
  {
   "cell_type": "code",
   "execution_count": 16,
   "metadata": {
    "collapsed": false
   },
   "outputs": [
    {
     "name": "stdout",
     "output_type": "stream",
     "text": [
      "The current folder is D:/joy.lin/test\n",
      "SUBFOLDER OF D:/joy.lin/test: del\n",
      "SUBFOLDER OF D:/joy.lin/test: test\n",
      "FILE INSIDE D:/joy.lin/test: a.txt\n",
      "FILE INSIDE D:/joy.lin/test: bacon.csv\n",
      "FILE INSIDE D:/joy.lin/test: deleteme.txt\n",
      "FILE INSIDE D:/joy.lin/test: hi.txt\n",
      "FILE INSIDE D:/joy.lin/test: index.html\n",
      "\n",
      "The current folder is D:/joy.lin/test\\del\n",
      "FILE INSIDE D:/joy.lin/test\\del: deleteme.txt\n",
      "\n",
      "The current folder is D:/joy.lin/test\\test\n",
      "FILE INSIDE D:/joy.lin/test\\test: a.txt\n",
      "FILE INSIDE D:/joy.lin/test\\test: hi2.txt\n",
      "FILE INSIDE D:/joy.lin/test\\test: himove.txt\n",
      "\n"
     ]
    }
   ],
   "source": [
    "# 走訪目錄樹\n",
    "import os \n",
    "\n",
    "for folderName, subfolders, filenames in os.walk('D:/joy.lin/test'):\n",
    "    print('The current folder is ' + folderName)\n",
    "    \n",
    "    for subfolder in subfolders:\n",
    "        print('SUBFOLDER OF ' + folderName + ': ' + subfolder)\n",
    "    for filename in filenames:\n",
    "        print('FILE INSIDE ' + folderName + ': ' + filename)\n",
    "        \n",
    "    print('')\n",
    "    \n",
    "# os.walk()函式是個資料夾路徑的字串值,並在for迴圈陳述句鐘用os.walk()函式走訪整個目錄樹\n",
    "# 就像用range()函式巡遍個範圍的數字是一樣的\n",
    "# 但不同於range() , os.walk()在迴圈的每次重複迭代中會返回3個值:\n",
    "# 1. 目前資料夾名稱的字串\n",
    "# 2. 目前資料夾中子資料夾的字串的串列\n",
    "# 3. 目前資料夾中檔案的字串的串列"
   ]
  },
  {
   "cell_type": "code",
   "execution_count": 29,
   "metadata": {
    "collapsed": false
   },
   "outputs": [
    {
     "name": "stdout",
     "output_type": "stream",
     "text": [
      "['209.Png', '137.Png', '162.Png', 'a.txt']\n",
      "104\n",
      "65\n",
      "Compressed file is 1.6x smaller!\n"
     ]
    }
   ],
   "source": [
    "# 使用zipfile模組壓縮檔案\n",
    "# zipfile是python模組名稱, ZipFile()是函式名稱\n",
    "\n",
    "import zipfile, os\n",
    "os.chdir('D:/joy.lin/test')\n",
    "exampleZip = zipfile.ZipFile('example.zip')\n",
    "print(exampleZip.namelist())\n",
    "\n",
    "spamInfo = exampleZip.getinfo('a.txt')\n",
    "print(spamInfo.file_size)      #位元大小\n",
    "print(spamInfo.compress_size)  #compress size 壓縮尺寸\n",
    "\n",
    "# 下列那行指令會計算出example.zip的壓縮效率,使用壓縮後檔案大小除以原來檔案的大小,並以 %s字串格式印到螢幕上\n",
    "print('Compressed file is %sx smaller!' %(round(spamInfo.file_size / spamInfo.compress_size ,2)))\n",
    "exampleZip.close()"
   ]
  },
  {
   "cell_type": "code",
   "execution_count": 41,
   "metadata": {
    "collapsed": false
   },
   "outputs": [
    {
     "name": "stdout",
     "output_type": "stream",
     "text": [
      "<zipfile.ZipFile filename='example.zip' mode='r'>\n"
     ]
    }
   ],
   "source": [
    "# 從ZIP檔解壓縮\n",
    "# ZipFile物件中的extractall()方法可讓ZIP檔解壓縮所有的檔案和資料夾，並放到目前的工作目錄中\n",
    "import zipfile, os\n",
    "os.getcwd()\n",
    "os.chdir('D:/joy.lin/test') \n",
    "exampleZip = zipfile.ZipFile('example.zip')\n",
    "print(exampleZip)\n",
    "exampleZip.extractall('D:/joy.lin/test')\n",
    "exampleZip.close()"
   ]
  },
  {
   "cell_type": "code",
   "execution_count": 44,
   "metadata": {
    "collapsed": false
   },
   "outputs": [
    {
     "name": "stderr",
     "output_type": "stream",
     "text": [
      "C:\\Users\\joy.lin\\AppData\\Local\\Continuum\\Anaconda3\\lib\\site-packages\\ipykernel\\__main__.py:10: UserWarning: Duplicate name: 'a.txt'\n"
     ]
    }
   ],
   "source": [
    "# 建立和新增到ZIP檔中\n",
    "# 要建立壓縮ZIP檔，必須要以「寫入模式」開始ZipFile物件，\n",
    "# 當第二個引數傳入'w'(就像在open()函式中傳入'w'，是以寫入模式開啟文字檔)\n",
    "# 'w'會覆蓋原來的檔案,以'a'是新增\n",
    "# write()方法第一個引數是要新增的檔案名稱字串，第二個引數是「壓縮類型」參數，\n",
    "# 告知電腦以哪一種演算法來壓縮檔案\n",
    "\n",
    "import zipfile\n",
    "os.chdir('D:/joy.lin/test') \n",
    "newZip = zipfile.ZipFile('example.zip','a')\n",
    "newZip.write('a.txt', compress_type=zipfile.ZIP_DEFLATED)\n",
    "newZip.write('137.png', compress_type=zipfile.ZIP_DEFLATED)\n",
    "newZip.close()"
   ]
  },
  {
   "cell_type": "code",
   "execution_count": 49,
   "metadata": {
    "collapsed": false
   },
   "outputs": [],
   "source": [
    "# 程式專題 : 將美式風格日期的檔案改為歐式風格日期\n",
    "\n",
    "#1. 建立正規表示式來識別美式風格日期的文字模式 \n",
    "#2. 呼叫os.listdir()找出工作目錄中的所有檔案 \n",
    "#3. 以迴圈走訪尋遍每個檔名，利用正規表示式檢查比對檔名中是否有日期\n",
    "#4. 如果含有日期，使用shutil.move()修改檔名"
   ]
  },
  {
   "cell_type": "code",
   "execution_count": 54,
   "metadata": {
    "collapsed": false
   },
   "outputs": [
    {
     "ename": "SyntaxError",
     "evalue": "'continue' not properly in loop (<ipython-input-54-d52fca5ed1a9>, line 24)",
     "output_type": "error",
     "traceback": [
      "\u001b[1;36m  File \u001b[1;32m\"<ipython-input-54-d52fca5ed1a9>\"\u001b[1;36m, line \u001b[1;32m24\u001b[0m\n\u001b[1;33m    continue\u001b[0m\n\u001b[1;37m    ^\u001b[0m\n\u001b[1;31mSyntaxError\u001b[0m\u001b[1;31m:\u001b[0m 'continue' not properly in loop\n"
     ]
    }
   ],
   "source": [
    "# Step1 : 針對美式風格日期格式建立正規表示式\n",
    "\n",
    "# Renames filenames with American MM-DD-YYYY date format to European DD-MM-YYYY\n",
    "\n",
    "import shutil, os , re\n",
    "\n",
    "# create a regex that matches files with the American date format.\n",
    "datePattern = re.compile(r\"\"\"^(.*?)    # all text before the date\n",
    "((0|1)?\\d)-                            # one or two digits for the month\n",
    "((0|1|2|3)?\\d)-                        # one or two digits for the day\n",
    "((19|20)\\d\\d)-                         # four digits for the year\n",
    "(.*?)$                                 # all text after the date\n",
    "\"\"\",re.VERBOSE)\n",
    "# 以re.VERBOSE為第二個引數傳入會讓正規表示式字串中允許使用空白字元和注釋\n",
    "\n",
    "# Step2 : 比對找出檔名中日期部分\n",
    "# TODO : Loop over the files in the working directory.\n",
    "\n",
    "for amerFilename in os.listdir('.'):\n",
    "    mo = datePattern.search(amerFilename)   \n",
    "\n",
    "# TODO : Skip files without a date.\n",
    "if mo == None:\n",
    "    continue\n",
    "\n",
    "# TODO : Get the different parts of the filename.\n",
    "beforePart = mo.group(1)\n",
    "monthPart = mo.group(2)\n",
    "dayPart = mo.group(4)\n",
    "yearPart = mo.group(6)\n",
    "afterPart = mo.group(8)\n",
    "\n",
    "dataPattern - re.compile(r\"\"\"^(1)      # all text before the date\n",
    "(2 (3) )-                            # one or two digits for the month\n",
    "((0|1|2|3)?\\d)-                        # one or two digits for the day\n",
    "((19|20)\\d\\d)-                         # four digits for the year\n",
    "(.*?)$                                 # all text after the date\n",
    "\"\"\",re.VERBOSE)  \n",
    "\n",
    "\n",
    "\n",
    "# Step3 : 重組新檔名並更改其檔名\n",
    "# TODO : Form the European-style filename.\n",
    "\n",
    "euroFilename = beforePart + dayPart + '-' + monthPart + '-' + yearPart + afterPart\n",
    "\n",
    "# TODO : Get the full, absolute file paths.\n",
    "absWorkingDir = os.path.abspath('.')\n",
    "amerFilename = os.path.join(absWorkingDir, amerFilename)\n",
    "euroFilename = os.path.join(absWorkingDir, euroFilename)\n",
    "\n",
    "# TODO : Rename the files.\n",
    "print('Renaming \"%s\" to \"%s\"...' % ( amerFilename, euroFilename))\n",
    "#shutil.move(amerFilenmae, euroFilename) # uncomment after testing"
   ]
  }
 ],
 "metadata": {
  "kernelspec": {
   "display_name": "Python [conda env:Anaconda3]",
   "language": "python",
   "name": "conda-env-Anaconda3-py"
  },
  "language_info": {
   "codemirror_mode": {
    "name": "ipython",
    "version": 3
   },
   "file_extension": ".py",
   "mimetype": "text/x-python",
   "name": "python",
   "nbconvert_exporter": "python",
   "pygments_lexer": "ipython3",
   "version": "3.5.2"
  }
 },
 "nbformat": 4,
 "nbformat_minor": 1
}
