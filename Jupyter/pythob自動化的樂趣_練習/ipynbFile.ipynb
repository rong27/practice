{
 "cells": [
  {
   "cell_type": "code",
   "execution_count": null,
   "metadata": {
    "collapsed": true
   },
   "outputs": [],
   "source": [
    "# 流程控制 #"
   ]
  },
  {
   "cell_type": "code",
   "execution_count": null,
   "metadata": {
    "collapsed": true
   },
   "outputs": [],
   "source": [
    "#您的第一支程式\n",
    "\n",
    "# This program says hello and asks for my name.\n",
    "\n",
    "print('Hello World!')\n",
    "print('What is your name?')\n",
    "myName = input()\n",
    "print('It is good to meet you ' + myName )\n",
    "print('The length of your name is: ')\n",
    "print(len(myName))\n",
    "print('What is your age? ')\n",
    "myAge = input()\n",
    "print('You will be ' +str(int(myAge) +1) + ' in a year.' )"
   ]
  },
  {
   "cell_type": "code",
   "execution_count": null,
   "metadata": {
    "collapsed": true
   },
   "outputs": [],
   "source": [
    "##程式區塊有三個規則:\n",
    "#1. 區塊是由開始縮排為起始\n",
    "#2. 區塊中也可以包含區塊\n",
    "#3. 沒有縮排或縮排減到與外圍包住該區塊地縮排一樣時，該區塊就是結尾\n",
    "\n",
    "name = 'Mary'\n",
    "password = 'swordfish'\n",
    "if name == 'Mary':\n",
    "    print('Hello Mary')\n",
    "    if password == 'swordfish':\n",
    "        print('Access granted.')\n",
    "\n",
    "    else:\n",
    "        print('Wrong password')\n"
   ]
  },
  {
   "cell_type": "code",
   "execution_count": null,
   "metadata": {
    "collapsed": true
   },
   "outputs": [],
   "source": [
    "#if陳述句 \n",
    "\"\"\"\n",
    "if陳述句的子句會在條件為True的時候執行，若為False則子句跳過不執行\n",
    "if陳述句包含:\n",
    "1. if這個關鍵字\n",
    "2. 條件(運算求值為T或F的表示式)\n",
    "3. 冒號\n",
    "4. 在其下一行開始縮排的程式區塊(if子句) \n",
    "\"\"\"\n",
    "# else陳述句\n",
    "\"\"\"\n",
    "if子句後面有時也可以搭配使用else陳述句\n",
    "只有if的條件為F時，else子句才會執行\n",
    "else陳述句不包含條件\n",
    "else要包含:\n",
    "1. else這個關鍵字\n",
    "2. 冒號\n",
    "3. 在其下一行開始縮排的程式區塊(也稱為else子句)\n",
    "\"\"\"\n",
    "name = input()\n",
    "if name == 'she':\n",
    "    print('SHE')\n",
    "else:\n",
    "    print('bye')"
   ]
  },
  {
   "cell_type": "code",
   "execution_count": null,
   "metadata": {
    "collapsed": true
   },
   "outputs": [],
   "source": [
    "# elif陳述句\n",
    "\"\"\"\n",
    "意思是否則如果\n",
    "通常放在if或另一條elif的後面\n",
    "他提供了另一個條件判斷和選擇\n",
    "只有在前面的條件為F時才會減砸該條件是否符合\n",
    "elif要包含:\n",
    "1. elif這個關鍵字\n",
    "2. 一個條件\n",
    "3. 冒號\n",
    "4. 在其下一行開始縮排的程式區塊\n",
    "\"\"\"\n",
    "name = 'Bob'\n",
    "age = 5\n",
    "if name == 'Alice':\n",
    "    print('Hi Alice')\n",
    "elif age < 12:\n",
    "    print('Hi stranger')"
   ]
  },
  {
   "cell_type": "code",
   "execution_count": null,
   "metadata": {
    "collapsed": true
   },
   "outputs": [],
   "source": [
    "# while 迴圈陳述句\n",
    "\"\"\"\n",
    "使用while陳述句可讓某個程式區塊重複執行\n",
    "當條件為T時 while子句就會執行\n",
    "while陳述句包含:\n",
    "1. while這個關鍵字\n",
    "2. 條件\n",
    "3. 冒號\n",
    "4. 縮排\n",
    "if結束時程式會繼續執行if之後的陳述句\n",
    "while子句結束時，程式則跳回while開始之處\n",
    "while子句常被稱為while loop\n",
    "\"\"\"\n",
    "\n",
    "spam = 0\n",
    "if spam <5:\n",
    "    print('Hello world')\n",
    "    spam = spam + 1\n",
    "\n",
    "\n",
    "\n",
    "spam = 0\n",
    "while spam <5:\n",
    "    print('Hello world')\n",
    "    spam = spam+1"
   ]
  },
  {
   "cell_type": "code",
   "execution_count": null,
   "metadata": {
    "collapsed": true
   },
   "outputs": [],
   "source": [
    "name = ''  #先將變數 name 指定一個空字串''來初始化，這樣在下一行的條件判別檢查時會是T才會進去while loop的子句\n",
    "while name != 'your name':\n",
    "    print('Please type \"your name\".')\n",
    "    name = input()\n",
    "print('3Q')"
   ]
  },
  {
   "cell_type": "code",
   "execution_count": null,
   "metadata": {
    "collapsed": true
   },
   "outputs": [],
   "source": [
    "# break陳述句(馬上中斷並跳出while loop)\n",
    "\"\"\"\n",
    "可讓執行中的程式提早跳出while loop子句\n",
    "假如在執行時遇到break陳述句，就會※馬上中斷並跳出while loop※\n",
    "程式碼中break陳述句只有break這個關鍵字\n",
    "\"\"\"\n",
    "\n",
    "while True:\n",
    "    print('Please type \"your name\"')\n",
    "    name =input()\n",
    "    if name == 'your name':\n",
    "        break\n",
    "print('3Q')"
   ]
  },
  {
   "cell_type": "code",
   "execution_count": null,
   "metadata": {
    "collapsed": true
   },
   "outputs": [],
   "source": [
    "# continue陳述句 (跳回迴圈開始處)\n",
    "\"\"\"\n",
    "和break陳述句一樣，都是用在迴圈的內部\n",
    "如果程式執行遇到continue陳述句時，會※跳回迴圈的開始處※，重新檢查迴圈條件\n",
    "\"\"\"\n",
    "while True:\n",
    "    print('Who are you?')\n",
    "    name = input()\n",
    "    if name != 'Joy':\n",
    "        continue\n",
    "    print('Hello, Joy. What is the password? (It is a fish.)')\n",
    "    password = input()\n",
    "    if password == 'fish':\n",
    "        break\n",
    "print('Access granted.') "
   ]
  },
  {
   "cell_type": "code",
   "execution_count": null,
   "metadata": {
    "collapsed": true
   },
   "outputs": [],
   "source": [
    "name = ''\n",
    "while not name :\n",
    "    print('enter your name: ')\n",
    "    name = input()\n",
    "print('How many guests will you have? ')\n",
    "numOfguests = int(input())\n",
    "if numOfguests:\n",
    "    print('Be sure to have enough room for all your guests.')\n",
    "print('Done')"
   ]
  },
  {
   "cell_type": "code",
   "execution_count": null,
   "metadata": {
    "collapsed": true
   },
   "outputs": [],
   "source": [
    "# for 迴圈 range()函式\n",
    "\"\"\"\n",
    "while陳述句在條件為True時就會一直繼續迴圈\n",
    "for迴圈與range()函式能夠讓某段程式碼區塊重複執行固定次數\n",
    "須包含:\n",
    "1. for 這個關鍵字\n",
    "2. 一個變數\n",
    "3. in 這個關鍵字\n",
    "4. 呼叫range()方法，最多傳入3個參數\n",
    "5. 冒號\n",
    "6. 在其下一行開始縮排的程式區塊(for子句)\n",
    "\"\"\"\n",
    "print('My name is')\n",
    "for i in range(5):\n",
    "    print('J 5 times ('+str(i)+')')\n"
   ]
  },
  {
   "cell_type": "code",
   "execution_count": null,
   "metadata": {
    "collapsed": true
   },
   "outputs": [],
   "source": [
    "total = 0              #將total初始化為0\n",
    "for i in range(101):\n",
    "    total = total + i\n",
    "print(total)"
   ]
  },
  {
   "cell_type": "code",
   "execution_count": null,
   "metadata": {
    "collapsed": true
   },
   "outputs": [],
   "source": [
    "# 使用 sys.exit()提前結束程式的執行\n",
    "\n",
    "\n",
    "import sys\n",
    "\n",
    "while True:\n",
    "    print('Type \"bye\" to exit.')\n",
    "    response = input()\n",
    "    if response == 'bye':\n",
    "        sys.exit()\n",
    "    print('You typed ' + response +'.')"
   ]
  },
  {
   "cell_type": "code",
   "execution_count": null,
   "metadata": {
    "collapsed": true
   },
   "outputs": [],
   "source": [
    "for i in range(1,11):\n",
    "    print(i)\n",
    "\n",
    "print('-------- the same ---------')\n",
    "    \n",
    "num = 1\n",
    "while num <=10:\n",
    "    print(num)\n",
    "    num = num + 1\n",
    "    "
   ]
  },
  {
   "cell_type": "code",
   "execution_count": null,
   "metadata": {
    "collapsed": true
   },
   "outputs": [],
   "source": [
    "# 函式 #"
   ]
  },
  {
   "cell_type": "code",
   "execution_count": null,
   "metadata": {
    "collapsed": true
   },
   "outputs": [],
   "source": [
    "#def陳述句和參數\n",
    "\"\"\"\n",
    "len() 括號中傳入的值稱為引數arguments\n",
    "\"\"\"\n",
    "\n",
    "def hello():        #def陳述句 用來定義hello()的函式\n",
    "    print('Hi!')    #函式本體，這段程式碼在呼叫函式時才會執行\n",
    "hello()\n",
    "\n",
    "print('--------another test--------')\n",
    "\n",
    "def hello(name):\n",
    "    print('Hello ' + name)\n",
    "hello('ALICE')\n",
    "hello('BOB')"
   ]
  },
  {
   "cell_type": "code",
   "execution_count": null,
   "metadata": {
    "collapsed": true,
    "scrolled": true
   },
   "outputs": [],
   "source": [
    "#利用def陳述句時，可用return陳述句指定要返回什麼值\n",
    "\"\"\"\n",
    "1. return這個關鍵字\n",
    "2. 函示要返回的值或表示式\n",
    "\"\"\"\n",
    "\n",
    "import random\n",
    "\n",
    "def getAnswer(answerNumber):\n",
    "    if answerNumber == 1:\n",
    "        return \"It's one.\"\n",
    "    elif answerNumber == 2:\n",
    "        return \"It's two.\"\n",
    "    elif answerNumber == 3:\n",
    "        return \"It's three.\"\n",
    "    else:\n",
    "        return \"It's more than three.\"\n",
    "\n",
    "r = random.randint(1,10)\n",
    "fortune = getAnswer(r)\n",
    "print(fortune)\n"
   ]
  },
  {
   "cell_type": "code",
   "execution_count": null,
   "metadata": {
    "collapsed": true
   },
   "outputs": [],
   "source": [
    "# This is a guess the number game\n",
    "import random\n",
    "secretNumber = random.randint(1,20)\n",
    "print('I am thinking of a number between 1 and 20.')\n",
    "\n",
    "#Ask the player to guess 6 times\n",
    "for guessTaken in range(1,7):\n",
    "    print('Take a guess')\n",
    "    guess = int(input())\n",
    "    \n",
    "    if guess < secretNumber :\n",
    "        print('your guess is too low.')\n",
    "    elif guess > secretNumber: \n",
    "        print('your guess is too high')\n",
    "    else:\n",
    "        break\n",
    "if guess == secretNumber:\n",
    "    print('Bingo, you guess in ' + str(guessTaken) + ' time(s).')\n",
    "else:\n",
    "    print('u r so stupid hahaha.')\n",
    "               "
   ]
  },
  {
   "cell_type": "code",
   "execution_count": null,
   "metadata": {
    "collapsed": true
   },
   "outputs": [],
   "source": [
    "#例外處理( try & except )\n",
    "\"\"\"\n",
    "目的:想讓程式能偵測錯誤並處理它們，讓程式繼續執行不會斷掉\n",
    "\"\"\"\n",
    "\n",
    "def spam(divideBy):\n",
    "    try:\n",
    "        return 42 / divideBy\n",
    "    except ZeroDivisionError:\n",
    "        print('Error:Invalid argument.')\n",
    "print(spam(2))\n",
    "print(spam(12))\n",
    "print(spam(0))\n",
    "print(spam(6))\n"
   ]
  },
  {
   "cell_type": "code",
   "execution_count": null,
   "metadata": {
    "collapsed": true
   },
   "outputs": [],
   "source": [
    "#Collatz序列\n",
    "\n",
    "def collatz(number):\n",
    "    while number != 1:\n",
    "        if number % 2 == 0:\n",
    "            number = number//2\n",
    "            print(number)\n",
    "        elif number % 2 == 1:\n",
    "            number = 3*number + 1\n",
    "            print(number)\n",
    "while True:\n",
    "    try:\n",
    "        number = int(input('Enter a number(integer) '))\n",
    "        break\n",
    "    except ValueError:\n",
    "        print('This is not an integer')\n",
    "        \n",
    "print(number)\n",
    "collatz(number)"
   ]
  },
  {
   "cell_type": "code",
   "execution_count": null,
   "metadata": {
    "collapsed": true
   },
   "outputs": [],
   "source": [
    "# 串列 list #\n",
    "\"\"\"\n",
    "need to learn :\n",
    "1. list串列 用中括號[]\n",
    "2. tuple多元組 用小括號() -> 值不能新增、刪除或修改\n",
    "\"\"\""
   ]
  },
  {
   "cell_type": "code",
   "execution_count": null,
   "metadata": {
    "collapsed": true
   },
   "outputs": [],
   "source": [
    "#del 陳述句 :刪除串列中的值\n",
    "spam = ['a','b','c','d']\n",
    "del spam[3]\n",
    "print(spam)"
   ]
  },
  {
   "cell_type": "code",
   "execution_count": null,
   "metadata": {
    "collapsed": true
   },
   "outputs": [],
   "source": [
    "catNames = []\n",
    "while True:\n",
    "    print('Enter the name of cat ' + str(len(catNames)+1) + '(Or enter nothing to stop.):')\n",
    "    name = input()\n",
    "    if name == '':\n",
    "        break\n",
    "    catNames = catNames + [name]  #list concatenation\n",
    "print('The cat names are: ')\n",
    "for name in catNames:\n",
    "    print('    '+ name)"
   ]
  },
  {
   "cell_type": "code",
   "execution_count": null,
   "metadata": {
    "collapsed": true
   },
   "outputs": [],
   "source": [
    "# 多重指定技巧\n",
    "cat = ['fat','orange','loud']\n",
    "size, color, disposition = cat\n",
    "print(cat)\n",
    "print(size,color,disposition)"
   ]
  },
  {
   "cell_type": "code",
   "execution_count": null,
   "metadata": {
    "collapsed": true
   },
   "outputs": [],
   "source": [
    "#增強型指定運算子的應用\n",
    "\"\"\"\n",
    "增強型指定陳述句 | 相同的指定陳述句\n",
    "spam += 1           spam = spam+1\n",
    "spam -= 1           spam = spam-1\n",
    "spam *= 1           spam = spam*1\n",
    "spam /= 1           spam = spam/1\n",
    "spam %= 1           spam = spam%1\n",
    "\"\"\"\n"
   ]
  },
  {
   "cell_type": "code",
   "execution_count": 2,
   "metadata": {
    "collapsed": false
   },
   "outputs": [
    {
     "name": "stdout",
     "output_type": "stream",
     "text": [
      "['apples', 'bananas', 'tofu', 'cats', 'and']\n"
     ]
    }
   ],
   "source": [
    "def test(some):\n",
    "    some.append('and')\n",
    "spam = ['apples' , 'bananas' , 'tofu' , 'cats']\n",
    "test(spam)\n",
    "print(spam)"
   ]
  },
  {
   "cell_type": "code",
   "execution_count": null,
   "metadata": {
    "collapsed": true
   },
   "outputs": [],
   "source": [
    "# reverse方法\n",
    "# reversed可以產生一個迭代器\n",
    "\n",
    "list = [1,2,3,4,'a','b','c','d']\n",
    "list.reverse()\n",
    "print(list)\n",
    "\n",
    "for i in reversed(list):\n",
    "    print(i)"
   ]
  },
  {
   "cell_type": "code",
   "execution_count": null,
   "metadata": {
    "collapsed": true
   },
   "outputs": [],
   "source": [
    "# insert()方法\n",
    "spam = ['apples' , 'bananas' , 'tofu' , 'cats']\n",
    "spam.insert(3,'and')   #insert(index,obj)\n",
    "print(spam)"
   ]
  },
  {
   "cell_type": "code",
   "execution_count": null,
   "metadata": {
    "collapsed": true
   },
   "outputs": [],
   "source": [
    "def fib(i):\n",
    "    if i <= 1:   # 當 i <= 1 時,\n",
    "       return i  #  就結束 fib() 函式的遞迴呼叫.\n",
    "    else: # 繼續遞迴呼叫 fib() 函式.\n",
    "       return fib(i - 1) + fib(i - 2)\n",
    "\n",
    "for i in range(10): # 利用迴圈印出 1~10 的費式數列.\n",
    "   print (\"fibonacci(\" + str(i) + \")=\" + str(fib(i)))"
   ]
  },
  {
   "cell_type": "code",
   "execution_count": 1,
   "metadata": {
    "collapsed": false
   },
   "outputs": [
    {
     "name": "stdout",
     "output_type": "stream",
     "text": [
      "['apples', 'bananas', 'tofu', 'and', 'cats']\n",
      "apples, bananas, tofu, and cats\n"
     ]
    }
   ],
   "source": [
    "spam = ['apples' , 'bananas' , 'tofu' , 'cats']\n",
    "spam.insert(-1,'and')\n",
    "print(spam)\n",
    "len(spam)\n",
    "spam_join = ', '.join(spam[0:4])+ ' ' +spam[len(spam)-1] #join:把某個字串中的內容連接起來變成新的字串\n",
    "print(spam_join)"
   ]
  },
  {
   "cell_type": "code",
   "execution_count": 29,
   "metadata": {
    "collapsed": false
   },
   "outputs": [
    {
     "name": "stdout",
     "output_type": "stream",
     "text": [
      "I, U, he, she, it, we, and they\n"
     ]
    }
   ],
   "source": [
    "def join_list(some):\n",
    "    some.insert(-1 , 'and')\n",
    "    some_join = ', '.join(some[0:len(some)-1]) + ' ' + some[len(some)-1]\n",
    "    print(some_join)\n",
    "    \n",
    "something = ['I' , 'U' , 'he' , 'she' , 'it' , 'we' , 'they']\n",
    "join_list(something)"
   ]
  },
  {
   "cell_type": "code",
   "execution_count": 25,
   "metadata": {
    "collapsed": false
   },
   "outputs": [
    {
     "name": "stdout",
     "output_type": "stream",
     "text": [
      "9\n",
      "6\n",
      "..00.00..\n",
      "\n",
      ".0000000.\n",
      "\n",
      ".0000000.\n",
      "\n",
      "..00000..\n",
      "\n",
      "...000...\n",
      "\n",
      "....0....\n",
      "\n"
     ]
    }
   ],
   "source": [
    "#字元圖片網格\n",
    "grid = [['.','.','.','.','.','.'],\n",
    "        ['.','0','0','.','.','.'],\n",
    "        ['0','0','0','0','.','.'],\n",
    "        ['0','0','0','0','0','.'],\n",
    "        ['.','0','0','0','0','0'],\n",
    "        ['0','0','0','0','0','.'],\n",
    "        ['0','0','0','0','.','.'],\n",
    "        ['.','0','0','.','.','.'],\n",
    "        ['.','.','.','.','.','.']]\n",
    "import copy\n",
    "spam = []\n",
    "spam = copy.copy(grid)\n",
    "gridarray = len(grid)\n",
    "print(gridarray)\n",
    "gridrow = len(grid[0])\n",
    "print(gridrow)\n",
    "for j in range(gridrow):\n",
    "    if j < gridrow:\n",
    "        for i in range(gridarray):\n",
    "            if i < gridarray:\n",
    "                print(spam[i][j],end='') # end =''為了讓print不自動換行\n",
    "#                 print(spam[i][j])\n",
    "    print('\\n')"
   ]
  }
 ],
 "metadata": {
  "anaconda-cloud": {},
  "kernelspec": {
   "display_name": "Python [default]",
   "language": "python",
   "name": "python3"
  },
  "language_info": {
   "codemirror_mode": {
    "name": "ipython",
    "version": 3
   },
   "file_extension": ".py",
   "mimetype": "text/x-python",
   "name": "python",
   "nbconvert_exporter": "python",
   "pygments_lexer": "ipython3",
   "version": "3.5.2"
  }
 },
 "nbformat": 4,
 "nbformat_minor": 1
}
