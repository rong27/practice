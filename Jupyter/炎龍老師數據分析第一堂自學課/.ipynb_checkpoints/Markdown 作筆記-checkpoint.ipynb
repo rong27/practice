{
 "cells": [
  {
   "cell_type": "code",
   "execution_count": 3,
   "metadata": {},
   "outputs": [
    {
     "data": {
      "text/plain": [
       "12"
      ]
     },
     "execution_count": 3,
     "metadata": {},
     "output_type": "execute_result"
    }
   ],
   "source": [
    "3+9"
   ]
  },
  {
   "cell_type": "markdown",
   "metadata": {},
   "source": [
    "markdown模式 可以自由做筆記~~"
   ]
  },
  {
   "cell_type": "markdown",
   "metadata": {},
   "source": [
    "# 大標題\n",
    "## 小標題\n",
    "\n",
    "內文在這裡。\n",
    "切換到markdown模式 ctrl+m再按一次m"
   ]
  },
  {
   "cell_type": "markdown",
   "metadata": {},
   "source": [
    "## 分項說明\n",
    "\n",
    "* python\n",
    "* juptter notebook\n",
    "* numpy\n",
    "* pandas\n",
    "* matplotlib"
   ]
  },
  {
   "cell_type": "markdown",
   "metadata": {},
   "source": [
    "## 連結 \n",
    "\n",
    "[政大 MOOC網] (http://moccs.nccu.edu.tw)"
   ]
  },
  {
   "cell_type": "markdown",
   "metadata": {},
   "source": [
    "## 插入圖片\n",
    "\n",
    "![台灣黑熊](http://www.taiwanbear.org.tw/admin/resource/images/f5976b469f4133.jpeg)"
   ]
  },
  {
   "cell_type": "markdown",
   "metadata": {},
   "source": [
    "## 打數學符號\n",
    "\n",
    "我們有一個函數  $f(x) = x^3 - 2x^2 + 5$ , 我想給它積分: \n",
    "$ \\int_a^b f(x) \\, dx$ \n",
    "$$ \\int_a^b f(x) \\, dx$$  <!--#2個錢字號是置中-->"
   ]
  },
  {
   "cell_type": "code",
   "execution_count": null,
   "metadata": {},
   "outputs": [],
   "source": []
  }
 ],
 "metadata": {
  "kernelspec": {
   "display_name": "Python 3",
   "language": "python",
   "name": "python3"
  },
  "language_info": {
   "codemirror_mode": {
    "name": "ipython",
    "version": 3
   },
   "file_extension": ".py",
   "mimetype": "text/x-python",
   "name": "python",
   "nbconvert_exporter": "python",
   "pygments_lexer": "ipython3",
   "version": "3.7.0"
  }
 },
 "nbformat": 4,
 "nbformat_minor": 2
}
