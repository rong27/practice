{
  "cells": [
    {
      "metadata": {
        "trusted": true
      },
      "cell_type": "code",
      "source": "%matplotlib inline\nimport numpy as np\nimport matplotlib.pyplot as plt",
      "execution_count": 75,
      "outputs": []
    },
    {
      "metadata": {
        "trusted": true
      },
      "cell_type": "code",
      "source": "mydict = {'apple':\"蘋果\",'banana':\"香蕉\"}",
      "execution_count": 76,
      "outputs": []
    },
    {
      "metadata": {
        "trusted": true
      },
      "cell_type": "code",
      "source": "mydict",
      "execution_count": 77,
      "outputs": [
        {
          "output_type": "execute_result",
          "execution_count": 77,
          "data": {
            "text/plain": "{'apple': '蘋果', 'banana': '香蕉'}"
          },
          "metadata": {}
        }
      ]
    },
    {
      "metadata": {
        "trusted": true
      },
      "cell_type": "code",
      "source": "mydict['apple']",
      "execution_count": 78,
      "outputs": [
        {
          "output_type": "execute_result",
          "execution_count": 78,
          "data": {
            "text/plain": "'蘋果'"
          },
          "metadata": {}
        }
      ]
    },
    {
      "metadata": {
        "trusted": true
      },
      "cell_type": "code",
      "source": "mydict['orange'] = '柳橙'",
      "execution_count": 79,
      "outputs": []
    },
    {
      "metadata": {
        "trusted": true
      },
      "cell_type": "code",
      "source": "for key in mydict:\n    print(\"{}:{}\".format(key,mydict[key]))",
      "execution_count": 80,
      "outputs": [
        {
          "output_type": "stream",
          "text": "apple:蘋果\nbanana:香蕉\norange:柳橙\n",
          "name": "stdout"
        }
      ]
    },
    {
      "metadata": {
        "trusted": true
      },
      "cell_type": "code",
      "source": "%matplotlib inline\nimport numpy as np\nimport matplotlib.pyplot as plt",
      "execution_count": 81,
      "outputs": []
    },
    {
      "metadata": {
        "trusted": true
      },
      "cell_type": "code",
      "source": "from ipywidgets import interact",
      "execution_count": 82,
      "outputs": []
    },
    {
      "metadata": {
        "trusted": true
      },
      "cell_type": "code",
      "source": "def f(x):\n    print(x)",
      "execution_count": 83,
      "outputs": []
    },
    {
      "metadata": {
        "trusted": true
      },
      "cell_type": "code",
      "source": "f(3)",
      "execution_count": 84,
      "outputs": [
        {
          "output_type": "stream",
          "text": "3\n",
          "name": "stdout"
        }
      ]
    },
    {
      "metadata": {
        "trusted": true
      },
      "cell_type": "code",
      "source": "f(\"hi\")",
      "execution_count": 85,
      "outputs": [
        {
          "output_type": "stream",
          "text": "hi\n",
          "name": "stdout"
        }
      ]
    },
    {
      "metadata": {
        "trusted": true
      },
      "cell_type": "code",
      "source": "interact(f, x=(1,10))",
      "execution_count": 86,
      "outputs": [
        {
          "output_type": "display_data",
          "data": {
            "application/vnd.jupyter.widget-view+json": {
              "model_id": "cabfb35003c04f3392230891e541af78",
              "version_minor": 0,
              "version_major": 2
            },
            "text/plain": "interactive(children=(IntSlider(value=5, description='x', max=10, min=1), Output()), _dom_classes=('widget-int…"
          },
          "metadata": {}
        },
        {
          "output_type": "execute_result",
          "execution_count": 86,
          "data": {
            "text/plain": "<function __main__.f>"
          },
          "metadata": {}
        }
      ]
    },
    {
      "metadata": {
        "trusted": true
      },
      "cell_type": "code",
      "source": "interact(f, x=\"hi\")",
      "execution_count": 87,
      "outputs": [
        {
          "output_type": "display_data",
          "data": {
            "application/vnd.jupyter.widget-view+json": {
              "model_id": "b6f90bf13b45447b82063dcad85abe7c",
              "version_minor": 0,
              "version_major": 2
            },
            "text/plain": "interactive(children=(Text(value='hi', description='x'), Output()), _dom_classes=('widget-interact',))"
          },
          "metadata": {}
        },
        {
          "output_type": "execute_result",
          "execution_count": 87,
          "data": {
            "text/plain": "<function __main__.f>"
          },
          "metadata": {}
        }
      ]
    },
    {
      "metadata": {
        "trusted": true
      },
      "cell_type": "code",
      "source": "from ipywidgets import interact",
      "execution_count": 88,
      "outputs": []
    },
    {
      "metadata": {
        "trusted": true
      },
      "cell_type": "code",
      "source": "def f(x):\n    print(x)",
      "execution_count": 89,
      "outputs": []
    },
    {
      "metadata": {
        "trusted": true
      },
      "cell_type": "code",
      "source": "interact(f, x=[\"台北\",\"台中\",\"台南\",\"高雄\"])",
      "execution_count": 90,
      "outputs": [
        {
          "output_type": "display_data",
          "data": {
            "application/vnd.jupyter.widget-view+json": {
              "model_id": "a206e23cfcbe4d4283ddc6198d3b1ccf",
              "version_minor": 0,
              "version_major": 2
            },
            "text/plain": "interactive(children=(Dropdown(description='x', options=('台北', '台中', '台南', '高雄'), value='台北'), Output()), _dom…"
          },
          "metadata": {}
        },
        {
          "output_type": "execute_result",
          "execution_count": 90,
          "data": {
            "text/plain": "<function __main__.f>"
          },
          "metadata": {}
        }
      ]
    },
    {
      "metadata": {
        "trusted": true
      },
      "cell_type": "code",
      "source": "interact(f, x={\"台北\":1,\"台中\":2,\"台南\":3,\"高雄\":4})",
      "execution_count": 92,
      "outputs": [
        {
          "output_type": "display_data",
          "data": {
            "application/vnd.jupyter.widget-view+json": {
              "model_id": "fcaed76b061a4d49a8cd8dfe3c5c393e",
              "version_minor": 0,
              "version_major": 2
            },
            "text/plain": "interactive(children=(Dropdown(description='x', options={'台北': 1, '台中': 2, '台南': 3, '高雄': 4}, value=1), Output…"
          },
          "metadata": {}
        },
        {
          "output_type": "execute_result",
          "execution_count": 92,
          "data": {
            "text/plain": "<function __main__.f>"
          },
          "metadata": {}
        }
      ]
    },
    {
      "metadata": {},
      "cell_type": "markdown",
      "source": "## interact互動整理\n* [數字/滑桿] \n* [字串/輸入視窗]\n* [List/選單]\n* [字典/出現對應值的選單]"
    },
    {
      "metadata": {
        "trusted": true
      },
      "cell_type": "code",
      "source": "def move(n):\n    print(\" \"*n + \"oOOo\")",
      "execution_count": 93,
      "outputs": []
    },
    {
      "metadata": {
        "trusted": true
      },
      "cell_type": "code",
      "source": "interact(move, n=(0,100))",
      "execution_count": 96,
      "outputs": [
        {
          "output_type": "display_data",
          "data": {
            "application/vnd.jupyter.widget-view+json": {
              "model_id": "beda907d21694cd5980b86007a223dfc",
              "version_minor": 0,
              "version_major": 2
            },
            "text/plain": "interactive(children=(IntSlider(value=50, description='n'), Output()), _dom_classes=('widget-interact',))"
          },
          "metadata": {}
        },
        {
          "output_type": "execute_result",
          "execution_count": 96,
          "data": {
            "text/plain": "<function __main__.move>"
          },
          "metadata": {}
        }
      ]
    },
    {
      "metadata": {
        "trusted": true
      },
      "cell_type": "code",
      "source": "x = np.linspace(0, 2*np.pi, 1000)",
      "execution_count": 100,
      "outputs": []
    },
    {
      "metadata": {
        "trusted": true
      },
      "cell_type": "code",
      "source": "def draw(n):\n    y= np.sin(n*x)\n    plt.plot(x,y, lw=5)",
      "execution_count": 101,
      "outputs": []
    },
    {
      "metadata": {
        "trusted": true,
        "scrolled": true
      },
      "cell_type": "code",
      "source": "draw(10)",
      "execution_count": 102,
      "outputs": [
        {
          "output_type": "display_data",
          "data": {
            "image/png": "[encoded data removed]",
            "text/plain": "<matplotlib.figure.Figure at 0x7fc3cada7cc0>"
          },
          "metadata": {}
        }
      ]
    },
    {
      "metadata": {
        "trusted": true,
        "scrolled": true
      },
      "cell_type": "code",
      "source": "interact(draw, n=(1.,50.))",
      "execution_count": 103,
      "outputs": [
        {
          "output_type": "display_data",
          "data": {
            "application/vnd.jupyter.widget-view+json": {
              "model_id": "0ba80c23824c483c99c27d54cd62f2c1",
              "version_minor": 0,
              "version_major": 2
            },
            "text/plain": "interactive(children=(FloatSlider(value=25.5, description='n', max=50.0, min=1.0), Output()), _dom_classes=('w…"
          },
          "metadata": {}
        },
        {
          "output_type": "execute_result",
          "execution_count": 103,
          "data": {
            "text/plain": "<function __main__.draw>"
          },
          "metadata": {}
        }
      ]
    },
    {
      "metadata": {},
      "cell_type": "markdown",
      "source": "## interact_manual 和 interact差別在 interact_manual需要點按鈕才會顯示"
    },
    {
      "metadata": {
        "trusted": true
      },
      "cell_type": "code",
      "source": "from ipywidgets import interact_manual",
      "execution_count": 104,
      "outputs": []
    },
    {
      "metadata": {
        "trusted": true
      },
      "cell_type": "code",
      "source": "X = np.random.rand(6)\nY = np.random.rand(6)",
      "execution_count": 105,
      "outputs": []
    },
    {
      "metadata": {
        "trusted": true
      },
      "cell_type": "code",
      "source": "plt.scatter(X,Y , s=100 ,c='orange')",
      "execution_count": 111,
      "outputs": [
        {
          "output_type": "execute_result",
          "execution_count": 111,
          "data": {
            "text/plain": "<matplotlib.collections.PathCollection at 0x7fc3cc1ac128>"
          },
          "metadata": {}
        },
        {
          "output_type": "display_data",
          "data": {
            "image/png": "[encoded data removed]",
            "text/plain": "<matplotlib.figure.Figure at 0x7fc3ca9a0630>"
          },
          "metadata": {}
        }
      ]
    },
    {
      "metadata": {
        "trusted": true
      },
      "cell_type": "code",
      "source": "x = np.linspace(0,1,1000)",
      "execution_count": 112,
      "outputs": []
    },
    {
      "metadata": {
        "trusted": true
      },
      "cell_type": "code",
      "source": "def draw(n):\n    plt.scatter(X,Y , s=100 ,c='orange')     \n    y = 0.5*np.sin(n*x*2*np.pi)+0.5\n    plt.plot(x,y)",
      "execution_count": 113,
      "outputs": []
    },
    {
      "metadata": {
        "trusted": true
      },
      "cell_type": "code",
      "source": "interact_manual(draw, n=(1., 200.))",
      "execution_count": 115,
      "outputs": [
        {
          "output_type": "display_data",
          "data": {
            "application/vnd.jupyter.widget-view+json": {
              "model_id": "e34b30d4f56845e99bd2758b7c3c5bd0",
              "version_minor": 0,
              "version_major": 2
            },
            "text/plain": "interactive(children=(FloatSlider(value=100.5, description='n', max=200.0, min=1.0), Button(description='Run I…"
          },
          "metadata": {}
        },
        {
          "output_type": "execute_result",
          "execution_count": 115,
          "data": {
            "text/plain": "<function __main__.draw>"
          },
          "metadata": {}
        }
      ]
    },
    {
      "metadata": {
        "trusted": true
      },
      "cell_type": "code",
      "source": "%matplotlib inline\nimport numpy as np\nimport matplotlib.pyplot as plt",
      "execution_count": 116,
      "outputs": []
    },
    {
      "metadata": {
        "trusted": true
      },
      "cell_type": "code",
      "source": "from ipywidgets import interact_manual",
      "execution_count": 118,
      "outputs": []
    },
    {
      "metadata": {
        "trusted": true
      },
      "cell_type": "code",
      "source": "def BMI(身高,體重):\n    身高 = float(身高)/100 # 因為身高是文字要把他轉為服點數\n    體重 = float(體重)\n    bmi = 體重 / (身高**2)\n    print(\"你的 BMI = {:.2f}\".format(bmi))  ## :.2f小數點後第二位",
      "execution_count": 122,
      "outputs": []
    },
    {
      "metadata": {
        "trusted": true
      },
      "cell_type": "code",
      "source": "interact_manual(BMI, 身高 =\"請輸入您的身高(cm)\" ,體重 =\"請輸入您的體重(kg)\")",
      "execution_count": 123,
      "outputs": [
        {
          "output_type": "display_data",
          "data": {
            "application/vnd.jupyter.widget-view+json": {
              "model_id": "d92998d8e01b4f8785cd794bdca04e3b",
              "version_minor": 0,
              "version_major": 2
            },
            "text/plain": "interactive(children=(Text(value='請輸入您的身高(cm)', description='身高'), Text(value='請輸入您的體重(kg)', description='體重')…"
          },
          "metadata": {}
        },
        {
          "output_type": "execute_result",
          "execution_count": 123,
          "data": {
            "text/plain": "<function __main__.BMI>"
          },
          "metadata": {}
        }
      ]
    }
  ],
  "metadata": {
    "kernelspec": {
      "name": "python36",
      "display_name": "Python 3.6",
      "language": "python"
    },
    "language_info": {
      "mimetype": "text/x-python",
      "nbconvert_exporter": "python",
      "name": "python",
      "pygments_lexer": "ipython3",
      "version": "3.6.6",
      "file_extension": ".py",
      "codemirror_mode": {
        "version": 3,
        "name": "ipython"
      }
    }
  },
  "nbformat": 4,
  "nbformat_minor": 2
}