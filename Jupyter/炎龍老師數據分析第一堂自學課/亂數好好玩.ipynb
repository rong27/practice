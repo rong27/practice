{
  "cells": [
    {
      "metadata": {
        "trusted": true
      },
      "cell_type": "code",
      "source": "%pylab inline",
      "execution_count": 1,
      "outputs": [
        {
          "output_type": "stream",
          "text": "Populating the interactive namespace from numpy and matplotlib\n",
          "name": "stdout"
        }
      ]
    },
    {
      "metadata": {
        "trusted": true
      },
      "cell_type": "code",
      "source": "for i in range(10):\n    k = randint(1,50)\n    print(\" \"*k + \"*\")",
      "execution_count": 7,
      "outputs": [
        {
          "output_type": "stream",
          "text": "  *\n    *\n     *\n    *\n                                          *\n                                             *\n                              *\n                           *\n     *\n                     *\n",
          "name": "stdout"
        }
      ]
    },
    {
      "metadata": {},
      "cell_type": "markdown",
      "source": "## 猜數字"
    },
    {
      "metadata": {
        "trusted": true
      },
      "cell_type": "code",
      "source": "csnumber = randint(1,100)\nwhile True:\n    guess =int(input(\"請輸入1-100的整數: \"))\n    if guess < csnumber:\n        print(\"your number is too small\")\n    elif guess > csnumber:\n        print(\"your number is too big\")\n    else:\n        print(\"bingo! \"+ \"The correct answer is : \" + str(csnumber) +\" You are so good.!\")\n        break;\n\n",
      "execution_count": 23,
      "outputs": [
        {
          "output_type": "stream",
          "name": "stdout",
          "text": "請輸入1-100的整數: 50\nyour number is too big\n請輸入1-100的整數: 40\nyour number is too big\n請輸入1-100的整數: 20\nyour number is too big\n請輸入1-100的整數: 10\nyour number is too big\n請輸入1-100的整數: 30\nyour number is too big\n請輸入1-100的整數: 5\nyour number is too small\n請輸入1-100的整數: 8\nyour number is too big\n請輸入1-100的整數: 4\nyour number is too small\n請輸入1-100的整數: 6\nbingo! The correct answer is : 6 You are so good.!\n"
        }
      ]
    }
  ],
  "metadata": {
    "kernelspec": {
      "name": "python36",
      "display_name": "Python 3.6",
      "language": "python"
    },
    "language_info": {
      "mimetype": "text/x-python",
      "nbconvert_exporter": "python",
      "name": "python",
      "pygments_lexer": "ipython3",
      "version": "3.6.6",
      "file_extension": ".py",
      "codemirror_mode": {
        "version": 3,
        "name": "ipython"
      }
    }
  },
  "nbformat": 4,
  "nbformat_minor": 2
}