{
  "cells": [
    {
      "metadata": {
        "trusted": true
      },
      "cell_type": "code",
      "source": "name = \"銀兩\"\nplace = \"台南\"",
      "execution_count": 7,
      "outputs": []
    },
    {
      "metadata": {
        "trusted": true
      },
      "cell_type": "code",
      "source": "message = place + \"的\" + name + \"好喝!\"\nprint(message)",
      "execution_count": 8,
      "outputs": [
        {
          "output_type": "stream",
          "text": "台南的銀兩好喝!\n",
          "name": "stdout"
        }
      ]
    },
    {
      "metadata": {
        "trusted": true
      },
      "cell_type": "code",
      "source": "message = \"{}的{}好喝!\".format(place,name)\nprint(message)",
      "execution_count": 9,
      "outputs": [
        {
          "output_type": "stream",
          "text": "台南的銀兩好喝!\n",
          "name": "stdout"
        }
      ]
    },
    {
      "metadata": {},
      "cell_type": "markdown",
      "source": "## 資料型態不用擔心"
    },
    {
      "metadata": {
        "trusted": true
      },
      "cell_type": "code",
      "source": "m = 100\nprint(\"美金{}合台幣{}元!\".format(m , m*30.5))",
      "execution_count": 11,
      "outputs": [
        {
          "output_type": "stream",
          "text": "美金100合台幣3050.0元!\n",
          "name": "stdout"
        }
      ]
    }
  ],
  "metadata": {
    "kernelspec": {
      "name": "python36",
      "display_name": "Python 3.6",
      "language": "python"
    },
    "language_info": {
      "mimetype": "text/x-python",
      "nbconvert_exporter": "python",
      "name": "python",
      "pygments_lexer": "ipython3",
      "version": "3.6.6",
      "file_extension": ".py",
      "codemirror_mode": {
        "version": 3,
        "name": "ipython"
      }
    }
  },
  "nbformat": 4,
  "nbformat_minor": 2
}