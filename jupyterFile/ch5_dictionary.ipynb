{
 "cells": [
  {
   "cell_type": "code",
   "execution_count": 1,
   "metadata": {
    "collapsed": true
   },
   "outputs": [],
   "source": [
    "# 字典與結構化資料 #"
   ]
  },
  {
   "cell_type": "code",
   "execution_count": 2,
   "metadata": {
    "collapsed": false
   },
   "outputs": [
    {
     "data": {
      "text/plain": [
       "'\\n字典的索引:鍵(key)\\n利用鍵與值關聯在一起\\n鍵-值對(key-value pair)\\n'"
      ]
     },
     "execution_count": 2,
     "metadata": {},
     "output_type": "execute_result"
    }
   ],
   "source": [
    "# 字典{}資料型別\n",
    "\"\"\"\n",
    "字典的索引:鍵(key)\n",
    "利用鍵與值關聯在一起\n",
    "鍵-值對(key-value pair)\n",
    "\"\"\""
   ]
  },
  {
   "cell_type": "code",
   "execution_count": 3,
   "metadata": {
    "collapsed": false
   },
   "outputs": [
    {
     "name": "stdout",
     "output_type": "stream",
     "text": [
      "Enter a name: (blank to quit)\n",
      "Alice\n",
      "Apr 1 is the birthday of Alice\n",
      "Enter a name: (blank to quit)\n",
      "\n"
     ]
    }
   ],
   "source": [
    "birthdays = {'Alice':'Apr 1','Bob':'Apr 2','Carol':'Apr 3'}\n",
    "\n",
    "while True:\n",
    "    print('Enter a name: (blank to quit)')\n",
    "    name = input()\n",
    "    if name == '':\n",
    "        break      #break用意 : 當name輸入的值為空白就跳出 while 迴圈\n",
    "    if name in birthdays:\n",
    "        print(birthdays[name]+ ' is the birthday of ' + name)\n",
    "    else:\n",
    "        print('I do not have birthday information for ' + name)\n",
    "        print('What is their birthday ?')\n",
    "        bday = input()\n",
    "        birthdays[name] = bday\n",
    "        print('Birthday database updated.')\n",
    "        \n",
    "        "
   ]
  },
  {
   "cell_type": "code",
   "execution_count": 4,
   "metadata": {
    "collapsed": false
   },
   "outputs": [
    {
     "name": "stdout",
     "output_type": "stream",
     "text": [
      "color\n",
      "age\n",
      "clothes\n",
      "---------------------\n",
      "red\n",
      "12\n",
      "skirts\n",
      "---------------------\n",
      "('color', 'red')\n",
      "('age', 12)\n",
      "('clothes', 'skirts')\n",
      "---------多重指定值----------\n",
      "key: color Value: red\n",
      "key: age Value: 12\n",
      "key: clothes Value: skirts\n"
     ]
    }
   ],
   "source": [
    "# key() ; value() ; items()\n",
    "\n",
    "spam = {'color':'red' ,'age':12,'clothes':'skirts'}\n",
    "for i in spam.keys():   #key's' 要加s\n",
    "    print(i)\n",
    "print('---------------------')\n",
    "for v in spam.values():\n",
    "    print(v)\n",
    "print('---------------------')\n",
    "for x in spam.items():\n",
    "    print(x)\n",
    "\n",
    "print('---------多重指定值----------')\n",
    "for a,b in spam.items():\n",
    "    print('key: ' + a +' Value: '+str(b))"
   ]
  },
  {
   "cell_type": "code",
   "execution_count": 5,
   "metadata": {
    "collapsed": false
   },
   "outputs": [
    {
     "name": "stdout",
     "output_type": "stream",
     "text": [
      "I am bring 2 cups.\n",
      "I am bring 10 cookies.\n",
      "{'apples': 5, 'cups': 2}\n"
     ]
    }
   ],
   "source": [
    "# get : 目的 -> 存取某個鍵對應的值之前，先檢查該\"鍵\"是否存在字典中\n",
    "\"\"\"\n",
    "get: 兩個引數:要取得值所應的鍵，以及如果該\"鍵\"不存在時要返回的備用值\n",
    "\"\"\"\n",
    "\n",
    "picnicItems={'apples':5,'cups':2}\n",
    "print('I am bring ' + str(picnicItems.get('cups',0)) + ' cups.')\n",
    "print('I am bring ' + str(picnicItems.get('cookies',10)) + ' cookies.') # <- 沒有cookies，但用get()也是可以印出來\n",
    "print(picnicItems)"
   ]
  },
  {
   "cell_type": "code",
   "execution_count": 6,
   "metadata": {
    "collapsed": false
   },
   "outputs": [
    {
     "name": "stdout",
     "output_type": "stream",
     "text": [
      "{'color': 'black and white', 'age': 1, 'name': 'Panda'}\n",
      "--------- use setdefault() way ----------\n",
      "{'color': 'black and white', 'age': 1, 'name': 'Panda'}\n"
     ]
    }
   ],
   "source": [
    "# setdefault()方法 : 需要在字典中為某個不存在的\"鍵\"來設定預設值\n",
    "spam = {'name':'Panda','age':1}\n",
    "if 'color' not in spam:\n",
    "    spam['color'] = 'black and white'\n",
    "print(spam)\n",
    "\n",
    "print('--------- use setdefault() way ----------')\n",
    "\n",
    "spam = {'name':'Panda','age':1}\n",
    "spam.setdefault('color','black and white')\n",
    "print(spam)"
   ]
  },
  {
   "cell_type": "code",
   "execution_count": 7,
   "metadata": {
    "collapsed": false
   },
   "outputs": [
    {
     "name": "stdout",
     "output_type": "stream",
     "text": [
      "{'1': 2,\n",
      " '2': 2,\n",
      " '3': 2,\n",
      " '4': 2,\n",
      " '5': 2,\n",
      " '6': 2,\n",
      " 'A': 2,\n",
      " 'B': 2,\n",
      " 'C': 2,\n",
      " 'D': 2,\n",
      " 'a': 2,\n",
      " 'b': 2,\n",
      " 'c': 2,\n",
      " 'd': 2}\n"
     ]
    }
   ],
   "source": [
    "# 計算字串中每個字元出現的次數\n",
    "import pprint   # pprint模組用處:印出好看美觀的結果\n",
    "words = 'AAaaBBbbccCCddDD112233445566'\n",
    "count = {}\n",
    "\n",
    "\n",
    "for character in words:\n",
    "    count.setdefault(character, 0)\n",
    "    count[character] = count[character] + 1\n",
    "    \n",
    "pprint.pprint(count)\n",
    "# print(pprint.pformat(count))"
   ]
  },
  {
   "cell_type": "code",
   "execution_count": 8,
   "metadata": {
    "collapsed": false
   },
   "outputs": [
    {
     "name": "stdout",
     "output_type": "stream",
     "text": [
      " | | \n",
      "-+-+-\n",
      " | | \n",
      "-+-+-\n",
      " | | \n",
      "----------------------------------\n",
      " | | \n",
      "-+-+-\n",
      " | | \n",
      "-+-+-\n",
      " | | \n",
      "Turn for X. Move on which space?\n",
      "1\n",
      "X| | \n",
      "-+-+-\n",
      " | | \n",
      "-+-+-\n",
      " | | \n",
      "Turn for O. Move on which space?\n",
      "2\n",
      "X|O| \n",
      "-+-+-\n",
      " | | \n",
      "-+-+-\n",
      " | | \n",
      "Turn for X. Move on which space?\n",
      "3\n",
      "X|O|X\n",
      "-+-+-\n",
      " | | \n",
      "-+-+-\n",
      " | | \n",
      "Turn for O. Move on which space?\n",
      "4\n",
      "X|O|X\n",
      "-+-+-\n",
      "O| | \n",
      "-+-+-\n",
      " | | \n",
      "Turn for X. Move on which space?\n",
      "5\n",
      "X|O|X\n",
      "-+-+-\n",
      "O|X| \n",
      "-+-+-\n",
      " | | \n",
      "Turn for O. Move on which space?\n",
      "6\n",
      "X|O|X\n",
      "-+-+-\n",
      "O|X|O\n",
      "-+-+-\n",
      " | | \n",
      "Turn for X. Move on which space?\n",
      "7\n",
      "X|O|X\n",
      "-+-+-\n",
      "O|X|O\n",
      "-+-+-\n",
      "X| | \n",
      "Turn for O. Move on which space?\n",
      "8\n",
      "X|O|X\n",
      "-+-+-\n",
      "O|X|O\n",
      "-+-+-\n",
      "X|O| \n",
      "Turn for X. Move on which space?\n",
      "9\n",
      "{'1': 'X',\n",
      " '2': 'O',\n",
      " '3': 'X',\n",
      " '4': 'O',\n",
      " '5': 'X',\n",
      " '6': 'O',\n",
      " '7': 'X',\n",
      " '8': 'O',\n",
      " '9': 'X'}\n"
     ]
    }
   ],
   "source": [
    "# OX game(初步，因為並不會檢查是否獲勝)\n",
    "import pprint\n",
    "theBoard = {'1': ' ' , '2': ' ' , '3': ' ',\n",
    "            '4': ' ' , '5': ' ' , '6': ' ',\n",
    "            '7': ' ' , '8': ' ' , '9': ' '}\n",
    "\n",
    "def printBoard(board):\n",
    "    print(board['1'] + '|' + board['2'] + '|' + board['3'])\n",
    "    print('-+-+-')\n",
    "    print(board['4'] + '|' + board['5'] + '|' + board['6'])\n",
    "    print('-+-+-')\n",
    "    print(board['7'] + '|' + board['8'] + '|' + board['9'])\n",
    "printBoard(theBoard)\n",
    "print('----------------------------------')\n",
    "turn = 'X'\n",
    "for i in range(9):\n",
    "    printBoard(theBoard)\n",
    "    print('Turn for ' + turn + '. Move on which space?')\n",
    "    move = input()\n",
    "    theBoard[move] = turn\n",
    "    if turn == 'X':\n",
    "        turn = 'O'\n",
    "    else:\n",
    "        turn = 'X'\n",
    "pprint.pprint(theBoard)"
   ]
  },
  {
   "cell_type": "code",
   "execution_count": 9,
   "metadata": {
    "collapsed": false
   },
   "outputs": [
    {
     "name": "stdout",
     "output_type": "stream",
     "text": [
      "Number of things being brought:\n",
      " - Apples          7\n",
      " - Pretzels        12\n",
      " - Cookies         0\n",
      " - Cups            3\n",
      " - Apples pies     1\n",
      " - Ham sandwiches  3\n"
     ]
    }
   ],
   "source": [
    "#如字典或串列中藥放入其他字典或串列這種巢狀嵌套的結構。\n",
    "allGuests = {'Alice':{'apples':5 , 'pretzels':12},\n",
    "            'Bob':{'ham sandwiches':3, 'apples':2},\n",
    "            'Carol':{'cups':3, 'apple pies':1}}\n",
    "\n",
    "def total(guests,items):\n",
    "    numbrought = 0\n",
    "    for k,v in guests.items():\n",
    "        numbrought = numbrought + v.get(items,0)\n",
    "    return numbrought\n",
    "\n",
    "print('Number of things being brought:')\n",
    "print(' - Apples          ' + str(total(allGuests, 'apples')))\n",
    "print(' - Pretzels        ' + str(total(allGuests, 'pretzels')))\n",
    "print(' - Cookies         ' + str(total(allGuests, 'cookies')))\n",
    "print(' - Cups            ' + str(total(allGuests, 'cups')))\n",
    "print(' - Apples pies     ' + str(total(allGuests, 'apple pies')))\n",
    "print(' - Ham sandwiches  ' + str(total(allGuests, 'ham sandwiches')))"
   ]
  },
  {
   "cell_type": "code",
   "execution_count": 10,
   "metadata": {
    "collapsed": false
   },
   "outputs": [
    {
     "name": "stdout",
     "output_type": "stream",
     "text": [
      "{}\n",
      "{'color': 'black'}\n"
     ]
    }
   ],
   "source": [
    "# compare get and setdefault\n",
    "spam ={}\n",
    "spam.get('color','blacl')\n",
    "print(spam)\n",
    "spam.setdefault('color','black')\n",
    "print(spam)"
   ]
  },
  {
   "cell_type": "code",
   "execution_count": 11,
   "metadata": {
    "collapsed": false
   },
   "outputs": [
    {
     "name": "stdout",
     "output_type": "stream",
     "text": [
      "Inventory:\n",
      "1 dagger\n",
      "12 arrow\n",
      "42 gold coin\n",
      "1 rope\n",
      "6 torch\n",
      "Total number of items: 62\n"
     ]
    }
   ],
   "source": [
    "# inventory.py\n",
    "stuff = {'rope':1,'torch':6,'gold coin':42,'dagger':1,'arrow':12}\n",
    "\n",
    "print('Inventory:')\n",
    "\n",
    "def displayInventory(inventory):\n",
    "    total = 0\n",
    "    for k, v in inventory.items():\n",
    "        print(v, k)\n",
    "        total = total + v\n",
    "    print('Total number of items: ' +str(total))\n",
    "#     while True:\n",
    "#         total = 0\n",
    "#         for v in inventory.values():\n",
    "#             total = total + v\n",
    "#         print(total)\n",
    "#         break\n",
    "# while這個loop是計算物品加總個數    \n",
    "displayInventory(stuff)"
   ]
  },
  {
   "cell_type": "code",
   "execution_count": 12,
   "metadata": {
    "collapsed": false
   },
   "outputs": [
    {
     "name": "stdout",
     "output_type": "stream",
     "text": [
      "Inventory:\n",
      "1 dagger\n",
      "45 gold coin\n",
      "1 ruby\n",
      "1 rope\n",
      "Total number of items: 48\n"
     ]
    }
   ],
   "source": [
    "# addToInventory.py\n",
    "dragon = ['gold coin', 'dagger' , 'gold coin' , 'gold coin' , 'ruby']\n",
    "inv = {'gold coin':42, 'rope':1}\n",
    "\n",
    "print('Inventory:')\n",
    "\n",
    "def addToInventory(inventory, addedItems): \n",
    "    for item in dragon:\n",
    "        inv[item] = inv.get(item,0) + 1\n",
    "        # ↑ Does the dict has the item? If yes, add plus one, the default being 0\n",
    "def displayInventory(inventory):\n",
    "    total = 0\n",
    "    for k, v in inventory.items():\n",
    "        print(v, k)\n",
    "        total = total + v\n",
    "    print('Total number of items: ' +str(total))\n",
    "    \n",
    "\n",
    "add = addToInventory(inv,dragon)\n",
    "displayInventory(inv)\n"
   ]
  }
 ],
 "metadata": {
  "anaconda-cloud": {},
  "kernelspec": {
   "display_name": "Python [conda env:Anaconda3]",
   "language": "python",
   "name": "conda-env-Anaconda3-py"
  },
  "language_info": {
   "codemirror_mode": {
    "name": "ipython",
    "version": 3
   },
   "file_extension": ".py",
   "mimetype": "text/x-python",
   "name": "python",
   "nbconvert_exporter": "python",
   "pygments_lexer": "ipython3",
   "version": "3.5.2"
  }
 },
 "nbformat": 4,
 "nbformat_minor": 1
}
