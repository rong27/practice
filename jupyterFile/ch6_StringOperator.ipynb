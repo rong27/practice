{
 "cells": [
  {
   "cell_type": "code",
   "execution_count": 1,
   "metadata": {
    "collapsed": true
   },
   "outputs": [],
   "source": [
    "#字串的操作#"
   ]
  },
  {
   "cell_type": "code",
   "execution_count": 8,
   "metadata": {
    "collapsed": false
   },
   "outputs": [
    {
     "name": "stdout",
     "output_type": "stream",
     "text": [
      "Say hi to Bob's mother.\n",
      "Hello \"\" \n"
     ]
    }
   ],
   "source": [
    "#字串的處理#\n",
    "#a.轉義字元(escape character)\n",
    "# \\'單引號 ; \\\"雙引號 ; \\t定位空格 ; \\n換行 ; \\\\反斜線\n",
    "spam = 'Say hi to Bob\\'s mother.' \n",
    "spem = 'Hello \\\"\" '\n",
    "print(spam)\n",
    "print(spem)"
   ]
  },
  {
   "cell_type": "code",
   "execution_count": 12,
   "metadata": {
    "collapsed": false
   },
   "outputs": [
    {
     "name": "stdout",
     "output_type": "stream",
     "text": [
      "That is Carol\\'s cat.\n"
     ]
    }
   ],
   "source": [
    "#原始字串(raw string) : 字串開始的引號前加上r\n",
    "print(r'That is Carol\\'s cat.')"
   ]
  },
  {
   "cell_type": "code",
   "execution_count": 17,
   "metadata": {
    "collapsed": false
   },
   "outputs": [
    {
     "name": "stdout",
     "output_type": "stream",
     "text": [
      "Dear Alice,\n",
      "Eve's cat is so cute.\n",
      "Sincerely,\n",
      "Bob\n"
     ]
    }
   ],
   "source": [
    "#使用三重引號的多行字串 : 再多行字串中比\\n更好用\n",
    "print('''Dear Alice,\n",
    "Eve's cat is so cute.\n",
    "Sincerely,\n",
    "Bob''')"
   ]
  },
  {
   "cell_type": "code",
   "execution_count": 21,
   "metadata": {
    "collapsed": true
   },
   "outputs": [],
   "source": [
    "\"\"\"This is a test Python program.\n",
    "\n",
    "This program was designed by Python3, not Python2.\n",
    "\"\"\"\n",
    "\n",
    "def spam():\n",
    "    \"\"\"This is a multiline comment to help\n",
    "    explain what the spam() function does.\"\"\"\n",
    "    print('Hello!')"
   ]
  },
  {
   "cell_type": "code",
   "execution_count": 30,
   "metadata": {
    "collapsed": false
   },
   "outputs": [
    {
     "data": {
      "text/plain": [
       "'Hello'"
      ]
     },
     "execution_count": 30,
     "metadata": {},
     "output_type": "execute_result"
    }
   ],
   "source": [
    "#字串的足標與切片\n",
    "\n",
    "spam = 'Hello world!'\n",
    "spam[0]\n",
    "spam[0:5]"
   ]
  },
  {
   "cell_type": "code",
   "execution_count": 44,
   "metadata": {
    "collapsed": false
   },
   "outputs": [
    {
     "name": "stdout",
     "output_type": "stream",
     "text": [
      "HELLO WORLD!\n",
      "hello world!\n",
      "False\n",
      "False\n"
     ]
    }
   ],
   "source": [
    "#upper() ; lower() ; isupper() ; islower()\n",
    "spam = 'Hello world!'\n",
    "spam.upper()\n",
    "print(spam.upper())\n",
    "print(spam.lower())\n",
    "\n",
    "print(spam.islower()) # 判斷spam 是否為小寫\n",
    "print(spam.isupper()) # 判斷spam 是否為大寫"
   ]
  },
  {
   "cell_type": "code",
   "execution_count": 47,
   "metadata": {
    "collapsed": false
   },
   "outputs": [
    {
     "name": "stdout",
     "output_type": "stream",
     "text": [
      "How are you ?\n",
      "GreaT\n",
      "I feel great, too.\n"
     ]
    }
   ],
   "source": [
    "print('How are you ?')\n",
    "feeling = input()\n",
    "if feeling.lower() == 'great':\n",
    "    print('I feel great, too.')\n",
    "else:\n",
    "    print('Please be happy, pretty/hansome')"
   ]
  },
  {
   "cell_type": "code",
   "execution_count": 58,
   "metadata": {
    "collapsed": false
   },
   "outputs": [
    {
     "name": "stdout",
     "output_type": "stream",
     "text": [
      "False\n",
      "True\n",
      "False\n",
      "False\n",
      "True\n"
     ]
    }
   ],
   "source": [
    "# isX 字串方法\n",
    "h = 'Hello123'\n",
    "print(h.isalpha())  # 如果字串只含有字母且不是空的 -> True\n",
    "print(h.isalnum())  # 如果字串只含有字母和數字且不是空的 -> True\n",
    "print(h.isdecimal()) # 如果字串只含有數字且不是空的 -> True\n",
    "print(h.isspace())  # 如果字串只含有空格、定位空格和換行且不是空的 -> True\n",
    "print(h.istitle()) # 如果字串只含有大寫字母開頭且後面都是小寫字母的單字 -> True"
   ]
  },
  {
   "cell_type": "code",
   "execution_count": 63,
   "metadata": {
    "collapsed": false
   },
   "outputs": [
    {
     "name": "stdout",
     "output_type": "stream",
     "text": [
      "Enter your age: \n",
      "12\n",
      "Select a new password (need letters and numbers): \n",
      "1se\n"
     ]
    }
   ],
   "source": [
    "# 如果需要驗證使用者的輸入，isX字串方法很有用\n",
    "\n",
    "while True:\n",
    "    print('Enter your age: ')\n",
    "    age = input()\n",
    "    if age.isdecimal():\n",
    "        break\n",
    "    print('Please enter a number for your age, Thanks!')\n",
    "while True:\n",
    "    print('Select a new password (need letters and numbers): ')\n",
    "    password = input()\n",
    "    if password.isalnum():\n",
    "        break\n",
    "    print('Passwords can only have letters and numbers')"
   ]
  },
  {
   "cell_type": "code",
   "execution_count": 69,
   "metadata": {
    "collapsed": false
   },
   "outputs": [
    {
     "name": "stdout",
     "output_type": "stream",
     "text": [
      "cat, rats, bats\n",
      "My name is rong\n",
      "['My', 'name', 'is', 'Simon']\n",
      "['ABC', 'DEF', 'GHI']\n"
     ]
    }
   ],
   "source": [
    "# join : 把某個字串與鑽列中的內容連接起來變新字串\n",
    "# split : 分割字元\n",
    "print(', '.join(['cat','rats','bats']))\n",
    "print(' '. join(['My','name','is','rong']))\n",
    "print('My name is Simon'.split())\n",
    "print('ABC111DEF111GHI'.split('111'))"
   ]
  },
  {
   "cell_type": "code",
   "execution_count": 75,
   "metadata": {
    "collapsed": false
   },
   "outputs": [
    {
     "name": "stdout",
     "output_type": "stream",
     "text": [
      "     Hello\n",
      "Hello     \n",
      "!!Hello!!!\n"
     ]
    }
   ],
   "source": [
    "# rjust() ; ljust() ; center() 方法 對齊文字\n",
    "#第一個引數為整數，這個整數就是靠左靠右對齊時要插入的\"空格和原字串加起來\"的長度\n",
    "\n",
    "print('Hello'.rjust(10))\n",
    "print('Hello'.ljust(10))\n",
    "print('Hello'.center(10,'!'))"
   ]
  },
  {
   "cell_type": "code",
   "execution_count": 79,
   "metadata": {
    "collapsed": false
   },
   "outputs": [
    {
     "name": "stdout",
     "output_type": "stream",
     "text": [
      "---PICNIC ITEMS---\n",
      "cookies.....  8000\n",
      "sandwiches..     4\n",
      "cups........     4\n",
      "apples......    12\n"
     ]
    }
   ],
   "source": [
    "def printPicnic(itemsDict, leftWidth , rightWidth):\n",
    "    print('PICNIC ITEMS'.center(leftWidth+rightWidth , '-'))\n",
    "    for k,v in itemsDict.items():\n",
    "        print(k.ljust(leftWidth,'.') + str(v).rjust(rightWidth))\n",
    "picnicItems = {'sandwiches':4, 'apples':12 , 'cups':4 , 'cookies':8000}\n",
    "printPicnic(picnicItems , 12, 6)"
   ]
  },
  {
   "cell_type": "code",
   "execution_count": 86,
   "metadata": {
    "collapsed": false
   },
   "outputs": [
    {
     "name": "stdout",
     "output_type": "stream",
     "text": [
      "Hello\n",
      "     Hello\n",
      "Hello     \n",
      "BaconSpamEggs\n",
      "SpamSpamBaconSpamEggs\n",
      "BaconSpamEggsSpamSpam\n"
     ]
    }
   ],
   "source": [
    "# strip() ; rstrip() ; lstrip() 刪除空白字元\n",
    "\n",
    "spam = '     Hello     '\n",
    "print(spam.strip())\n",
    "print(spam.rstrip())\n",
    "print(spam.lstrip())\n",
    "\n",
    "BB = 'SpamSpamBaconSpamEggsSpamSpam'\n",
    "print(BB.strip('ampS'))\n",
    "print(BB.rstrip('ampS'))\n",
    "print(BB.lstrip('ampS'))"
   ]
  },
  {
   "cell_type": "code",
   "execution_count": 91,
   "metadata": {
    "collapsed": false
   },
   "outputs": [
    {
     "name": "stdout",
     "output_type": "stream",
     "text": [
      "1.6.2\n",
      "1.2.6\n"
     ]
    },
    {
     "data": {
      "text/plain": [
       "'Hello World'"
      ]
     },
     "execution_count": 91,
     "metadata": {},
     "output_type": "execute_result"
    }
   ],
   "source": [
    "# pyperclip 模組 (<-非python內建模組，需先安裝) 複製與貼上字串\n",
    "# pyeprclip有 copy() / paste()函式\n",
    "import pyperclip\n",
    "print(pyperclip.__version__) # 先引入module再輸入這行可以知道是哪一版本\n",
    "import behave\n",
    "print(behave.__version__)\n",
    "#cmd 打 pip show <module>　可show 出 version\n",
    "\n",
    "pyperclip.copy('Hello World')\n",
    "pyperclip.paste()"
   ]
  },
  {
   "cell_type": "code",
   "execution_count": 94,
   "metadata": {
    "collapsed": false
   },
   "outputs": [],
   "source": [
    "#! 行\n",
    "#所有python 程式的第一行應該都是 #!行(也稱Shebang行 or Hashbanh行)\n",
    "#用來告知電腦系統想要用Python來執行這個程式\n",
    "#↓ Windows系統:\n",
    "#! python3"
   ]
  },
  {
   "cell_type": "code",
   "execution_count": 95,
   "metadata": {
    "collapsed": true
   },
   "outputs": [],
   "source": [
    "#密碼管理程式 先暫緩 (因為不會做) XD"
   ]
  },
  {
   "cell_type": "code",
   "execution_count": 146,
   "metadata": {
    "collapsed": false
   },
   "outputs": [
    {
     "name": "stdout",
     "output_type": "stream",
     "text": [
      "a\r\n",
      "b\r\n",
      "c\r\n",
      "\n",
      "['a\\r', 'b\\r', 'c\\r', '']\n",
      "4\n",
      "['+ a\\r', 'b\\r', 'c\\r', '']\n",
      "['+ a\\r', '+ b\\r', 'c\\r', '']\n",
      "['+ a\\r', '+ b\\r', '+ c\\r', '']\n",
      "['+ a\\r', '+ b\\r', '+ c\\r', '+ ']\n",
      "+ a\r\n",
      "+ b\r\n",
      "+ c\r\n",
      "+ \n"
     ]
    },
    {
     "data": {
      "text/plain": [
       "'+ a\\r\\n+ b\\r\\n+ c\\r\\n+ '"
      ]
     },
     "execution_count": 146,
     "metadata": {},
     "output_type": "execute_result"
    }
   ],
   "source": [
    "#在wiki標記中新增項目符號\n",
    "text = pyperclip.paste()  #把copy的存入text變數\n",
    "print(text)\n",
    "lines = text.split('\\n')\n",
    "print(lines)\n",
    "print(len(lines))\n",
    "for i in range(len(lines)):\n",
    "    lines[i] = '+ ' + lines[i]\n",
    "    print(lines)\n",
    "text = '\\n'.join(lines)\n",
    "print(text)\n",
    "pyperclip.copy(text)\n",
    "pyperclip.paste()"
   ]
  },
  {
   "cell_type": "code",
   "execution_count": 144,
   "metadata": {
    "collapsed": false
   },
   "outputs": [
    {
     "ename": "TypeError",
     "evalue": "'int' object is not iterable",
     "output_type": "error",
     "traceback": [
      "\u001b[1;31m---------------------------------------------------------------------------\u001b[0m",
      "\u001b[1;31mTypeError\u001b[0m                                 Traceback (most recent call last)",
      "\u001b[1;32m<ipython-input-144-ee9759b302fb>\u001b[0m in \u001b[0;36m<module>\u001b[1;34m()\u001b[0m\n\u001b[0;32m      5\u001b[0m \u001b[1;31m# def printable():\u001b[0m\u001b[1;33m\u001b[0m\u001b[1;33m\u001b[0m\u001b[0m\n\u001b[0;32m      6\u001b[0m \u001b[1;31m#     if i in len(tableData):\u001b[0m\u001b[1;33m\u001b[0m\u001b[1;33m\u001b[0m\u001b[0m\n\u001b[1;32m----> 7\u001b[1;33m \u001b[1;32mfor\u001b[0m \u001b[0mi\u001b[0m \u001b[1;32min\u001b[0m \u001b[0mlen\u001b[0m\u001b[1;33m(\u001b[0m\u001b[0mtableData\u001b[0m\u001b[1;33m)\u001b[0m\u001b[1;33m:\u001b[0m\u001b[1;33m\u001b[0m\u001b[0m\n\u001b[0m\u001b[0;32m      8\u001b[0m     \u001b[0mprint\u001b[0m\u001b[1;33m(\u001b[0m\u001b[0mmax\u001b[0m\u001b[1;33m(\u001b[0m\u001b[0mtableData\u001b[0m\u001b[1;33m[\u001b[0m\u001b[0mi\u001b[0m\u001b[1;33m]\u001b[0m\u001b[1;33m)\u001b[0m\u001b[1;33m)\u001b[0m\u001b[1;33m\u001b[0m\u001b[0m\n",
      "\u001b[1;31mTypeError\u001b[0m: 'int' object is not iterable"
     ]
    }
   ],
   "source": [
    "#表格列印程式\n",
    "tableData = [['apples','oranges','cherries','banana'],\n",
    "            ['Alice','Bob','Carol','David'],\n",
    "            ['dogs','cats','moose','goose']]\n",
    "# def printable():\n",
    "#     if i in len(tableData):\n",
    "for i in len(tableData):\n",
    "    print(max(tableData[i]))\n",
    "\n"
   ]
  }
 ],
 "metadata": {
  "kernelspec": {
   "display_name": "Python [conda env:Anaconda3]",
   "language": "python",
   "name": "conda-env-Anaconda3-py"
  },
  "language_info": {
   "codemirror_mode": {
    "name": "ipython",
    "version": 3
   },
   "file_extension": ".py",
   "mimetype": "text/x-python",
   "name": "python",
   "nbconvert_exporter": "python",
   "pygments_lexer": "ipython3",
   "version": "3.5.2"
  }
 },
 "nbformat": 4,
 "nbformat_minor": 1
}
