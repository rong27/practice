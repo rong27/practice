{
 "cells": [
  {
   "cell_type": "code",
   "execution_count": 1,
   "metadata": {
    "collapsed": false
   },
   "outputs": [
    {
     "data": {
      "text/plain": [
       "'usr\\\\bin\\\\spam'"
      ]
     },
     "execution_count": 1,
     "metadata": {},
     "output_type": "execute_result"
    }
   ],
   "source": [
    "#path:  Windows上反斜線 \\\n",
    "#path:  OS、Linux上斜線 /"
   ]
  },
  {
   "cell_type": "code",
   "execution_count": 2,
   "metadata": {
    "collapsed": false
   },
   "outputs": [
    {
     "data": {
      "text/plain": [
       "'usr\\\\bin\\\\spam'"
      ]
     },
     "execution_count": 2,
     "metadata": {},
     "output_type": "execute_result"
    }
   ],
   "source": [
    "import os\n",
    "os.path.join('usr','bin','spam')\n",
    "\n",
    "#反斜線有兩個是因為每個反斜線都要用一個反斜線來轉義(如果是在OS or Linux呼叫此函式，會返回 : 'usr/bin/spam' )"
   ]
  },
  {
   "cell_type": "code",
   "execution_count": 5,
   "metadata": {
    "collapsed": false
   },
   "outputs": [
    {
     "name": "stdout",
     "output_type": "stream",
     "text": [
      "D:\\joy.lin\\github\\test\\a.txt\n",
      "D:\\joy.lin\\github\\test\\b.py\n",
      "D:\\joy.lin\\github\\test\\c.docx\n"
     ]
    }
   ],
   "source": [
    "myFiles = ['a.txt','b.py','c.docx']\n",
    "for filename in myFiles:\n",
    "    print(os.path.join('D:\\\\joy.lin\\\\github\\\\test',filename))"
   ]
  },
  {
   "cell_type": "code",
   "execution_count": 6,
   "metadata": {
    "collapsed": true
   },
   "outputs": [],
   "source": [
    "#目前的工作目錄(Current Working Directory ,cwd)\n",
    "#任何不是從根目錄開始的路徑或檔名都會假設成在目前的工作目錄下,利用os.getcwd()函式可取得目前工作目錄的字串值\n",
    "#並可用os.chdir()來切換變更"
   ]
  },
  {
   "cell_type": "code",
   "execution_count": 8,
   "metadata": {
    "collapsed": false
   },
   "outputs": [
    {
     "data": {
      "text/plain": [
       "'C:\\\\Users\\\\joy.lin\\\\Documents'"
      ]
     },
     "execution_count": 8,
     "metadata": {},
     "output_type": "execute_result"
    }
   ],
   "source": [
    "import os \n",
    "os.getcwd()"
   ]
  },
  {
   "cell_type": "code",
   "execution_count": 11,
   "metadata": {
    "collapsed": false
   },
   "outputs": [],
   "source": [
    "# establish new folder\n",
    "\n",
    "import os \n",
    "os.makedirs('D:\\\\joy.lin\\\\github\\\\test')"
   ]
  },
  {
   "cell_type": "code",
   "execution_count": null,
   "metadata": {
    "collapsed": true
   },
   "outputs": [],
   "source": [
    "#處理絕對路徑和相對路徑\n",
    "\n",
    "# os.path.abspath(path) 返回引數的絕對路徑的字串,這是將相對路徑轉換成絕對路徑的簡易方法\n",
    "# os.path.isabs(path) 若引數為絕對路徑則返回True\n",
    "# os.path.relpath(path, start) 會返回從start路徑到path的相對路徑的字串,若沒start就使用目前工作目錄作為開始路徑"
   ]
  },
  {
   "cell_type": "code",
   "execution_count": 20,
   "metadata": {
    "collapsed": false,
    "scrolled": true
   },
   "outputs": [
    {
     "name": "stdout",
     "output_type": "stream",
     "text": [
      "hi.txt\n",
      "D:\\joy.lin\\github\\test\n",
      "('D:\\\\joy.lin\\\\github\\\\test', 'hi.txt')\n"
     ]
    }
   ],
   "source": [
    "path = 'D:\\\\joy.lin\\\\github\\\\test\\\\hi.txt'\n",
    "print(os.path.basename(path))\n",
    "print(os.path.dirname(path))\n",
    "print(os.path.split(path))"
   ]
  },
  {
   "cell_type": "code",
   "execution_count": 28,
   "metadata": {
    "collapsed": false
   },
   "outputs": [
    {
     "name": "stdout",
     "output_type": "stream",
     "text": [
      "['D:', 'joy.lin', 'github', 'test', 'hi.txt']\n",
      "0\n",
      "['practice', 'practiceFile', 'python_test', 'test']\n"
     ]
    }
   ],
   "source": [
    "print(path.split(os.path.sep)) # os.path.sep變數會設定正確的資料夾分隔斜線\n",
    "print(os.path.getsize(path))  # 返回引數中檔案的大小的位元數\n",
    "print(os.listdir('D:\\\\joy.lin\\\\github')) # 返回path引數下所有的檔案"
   ]
  },
  {
   "cell_type": "code",
   "execution_count": 29,
   "metadata": {
    "collapsed": true
   },
   "outputs": [],
   "source": [
    "# 檢查路徑合法性\n",
    "\n",
    "# os.path.exists(path) 如果傳入的path引數所給訂的檔案或資料夾存在 會返回True\n",
    "# os.path.isfile(path) 如果引數路徑存在,且是檔案 會返回 True\n",
    "# os.path.isdir(path)  如果引數路徑存在,且是資料夾 會返回 True"
   ]
  },
  {
   "cell_type": "code",
   "execution_count": 30,
   "metadata": {
    "collapsed": true
   },
   "outputs": [],
   "source": [
    "#在python中讀寫檔案有3個步驟\n",
    "\n",
    "#1.呼叫open()函示返回File物件\n",
    "#2.呼叫File物件的read()or write()方法\n",
    "#3.呼叫File物件的close()方法關閉檔案"
   ]
  },
  {
   "cell_type": "code",
   "execution_count": 56,
   "metadata": {
    "collapsed": false
   },
   "outputs": [
    {
     "name": "stdout",
     "output_type": "stream",
     "text": [
      "hello world!\n"
     ]
    }
   ],
   "source": [
    "# 使用open()函式開啟檔案\n",
    "helloFile = open('D:\\\\joy.lin\\\\github\\\\test\\\\hi.txt')\n",
    "#讀取檔案內容用File物件的read()方法\n",
    "print(helloFile.read())"
   ]
  },
  {
   "cell_type": "code",
   "execution_count": 49,
   "metadata": {
    "collapsed": false
   },
   "outputs": [
    {
     "data": {
      "text/plain": [
       "[\"When, in disgrace with fortue and men's eyes,\\n\",\n",
       " 'I all alone beweep my outcast state,\\n',\n",
       " 'And trouble deaf heaven with my bootless cries,\\n',\n",
       " 'And look upon myself and curse my fate.']"
      ]
     },
     "execution_count": 49,
     "metadata": {},
     "output_type": "execute_result"
    }
   ],
   "source": [
    "sonnetFile = open('D:\\\\joy.lin\\\\github\\\\test\\\\sonnet29.txt')\n",
    "sonnetFile.readlines()"
   ]
  },
  {
   "cell_type": "code",
   "execution_count": 63,
   "metadata": {
    "collapsed": false
   },
   "outputs": [
    {
     "name": "stdout",
     "output_type": "stream",
     "text": [
      "hello world!\n",
      "Bacon is not a vegetable.\n"
     ]
    }
   ],
   "source": [
    "#寫入檔案\n",
    "\n",
    "# r:讀  / w:寫之前會清空檔案的內容 / a:追加的方式，在原本內容中繼續寫 \n",
    "\n",
    "os.chdir('D:\\\\joy.lin\\\\github\\\\test') #切換path\n",
    "os.getcwd() #查看當前目錄\n",
    "\n",
    "baconFile = open('bacon.txt','w')\n",
    "baconFile.write('hello world!\\n') # write()方法不像print()函式會在字串尾端自動加入換行符號,需手動加入\n",
    "\n",
    "baconFile.close()\n",
    "baconFile = open('bacon.txt','a')\n",
    "baconFile.write('Bacon is not a vegetable.')\n",
    "\n",
    "baconFile.close()\n",
    "baconFile = open('bacon.txt')\n",
    "content = baconFile.read()\n",
    "print(content)"
   ]
  },
  {
   "cell_type": "code",
   "execution_count": 65,
   "metadata": {
    "collapsed": true
   },
   "outputs": [],
   "source": [
    "# 使用shelve模組來儲存變數\n",
    "# 可將python程式中的變數儲存到二進位的shelf檔案內,程式就可以從硬碟中取回變數的資料\n",
    "\n",
    "import shelve\n",
    "os.chdir('D:\\\\joy.lin\\\\github\\\\test') #切換path\n",
    "os.getcwd() #查看當前目錄\n",
    "shelfFile= shelve.open('mydata')\n",
    "cats = ['Zophie','Pooka','Simon']\n",
    "shelfFile['cats'] = cats\n",
    "shelfFile.close()"
   ]
  },
  {
   "cell_type": "code",
   "execution_count": 70,
   "metadata": {
    "collapsed": false
   },
   "outputs": [
    {
     "name": "stdout",
     "output_type": "stream",
     "text": [
      "<class 'shelve.DbfilenameShelf'>\n"
     ]
    }
   ],
   "source": [
    "shelfFile= shelve.open('mydata')\n",
    "print(type(shelfFile))\n",
    "shelfFile['cats']\n",
    "shelfFile.close()"
   ]
  },
  {
   "cell_type": "code",
   "execution_count": 2,
   "metadata": {
    "collapsed": false
   },
   "outputs": [],
   "source": [
    "# 使用pprint.pformat()函儲存變數\n",
    "import pprint\n",
    "cats = [{'name':'Zophie','desc':'chubby'},{'name':'Pooka','desc':'fluffy'}]\n",
    "pprint.pformat(cats)\n",
    "fileObj = open('myCats.py','w')\n",
    "fileObj.write('cats = ' +pprint.pformat(cats) + '\\n')\n",
    "fileObj.close()"
   ]
  },
  {
   "cell_type": "code",
   "execution_count": 6,
   "metadata": {
    "collapsed": false
   },
   "outputs": [
    {
     "ename": "IndexError",
     "evalue": "list index out of range",
     "output_type": "error",
     "traceback": [
      "\u001b[1;31m---------------------------------------------------------------------------\u001b[0m",
      "\u001b[1;31mIndexError\u001b[0m                                Traceback (most recent call last)",
      "\u001b[1;32m<ipython-input-6-29b0f0ddc8e5>\u001b[0m in \u001b[0;36m<module>\u001b[1;34m()\u001b[0m\n\u001b[0;32m     62\u001b[0m     \u001b[0mquizFile\u001b[0m\u001b[1;33m.\u001b[0m\u001b[0mwrite\u001b[0m\u001b[1;33m(\u001b[0m\u001b[1;34m'%s. What is the capital of %s?\\n'\u001b[0m \u001b[1;33m%\u001b[0m \u001b[1;33m(\u001b[0m\u001b[0mquestionNum\u001b[0m \u001b[1;33m+\u001b[0m \u001b[1;36m1\u001b[0m\u001b[1;33m,\u001b[0m \u001b[0mstates\u001b[0m\u001b[1;33m[\u001b[0m\u001b[0mquestionNum\u001b[0m\u001b[1;33m]\u001b[0m\u001b[1;33m)\u001b[0m\u001b[1;33m)\u001b[0m\u001b[1;33m\u001b[0m\u001b[0m\n\u001b[0;32m     63\u001b[0m     \u001b[1;32mfor\u001b[0m \u001b[0mi\u001b[0m \u001b[1;32min\u001b[0m \u001b[0mrange\u001b[0m\u001b[1;33m(\u001b[0m\u001b[1;36m4\u001b[0m\u001b[1;33m)\u001b[0m\u001b[1;33m:\u001b[0m\u001b[1;33m\u001b[0m\u001b[0m\n\u001b[1;32m---> 64\u001b[1;33m         \u001b[0mquizFile\u001b[0m\u001b[1;33m.\u001b[0m\u001b[0mwrite\u001b[0m\u001b[1;33m(\u001b[0m\u001b[1;34m' %s. %s\\n'\u001b[0m \u001b[1;33m%\u001b[0m \u001b[1;33m(\u001b[0m\u001b[1;34m'ABCD'\u001b[0m\u001b[1;33m[\u001b[0m\u001b[0mi\u001b[0m\u001b[1;33m]\u001b[0m\u001b[1;33m,\u001b[0m \u001b[0manswerOptions\u001b[0m\u001b[1;33m[\u001b[0m\u001b[0mi\u001b[0m\u001b[1;33m]\u001b[0m\u001b[1;33m)\u001b[0m\u001b[1;33m)\u001b[0m\u001b[1;33m\u001b[0m\u001b[0m\n\u001b[0m\u001b[0;32m     65\u001b[0m         \u001b[1;31m# 這裡的'ABCD'[i]表示將'ABCD'字串看成是陣列,在迴圈的每次重複蝶帶中會分別求值為'A','B','C',和'D'\u001b[0m\u001b[1;33m\u001b[0m\u001b[1;33m\u001b[0m\u001b[0m\n\u001b[0;32m     66\u001b[0m     \u001b[0mquizFile\u001b[0m\u001b[1;33m.\u001b[0m\u001b[0mwrite\u001b[0m\u001b[1;33m(\u001b[0m\u001b[1;34m'\\n'\u001b[0m\u001b[1;33m)\u001b[0m\u001b[1;33m\u001b[0m\u001b[0m\n",
      "\u001b[1;31mIndexError\u001b[0m: list index out of range"
     ]
    }
   ],
   "source": [
    "import random\n",
    "# Step1: 將考題資料儲存在同一個字典中\n",
    "# the quiz data. Keys are states and values are their capitals.\n",
    "capitals = {'Alabama': 'Montgomery', 'Alaska': 'Juneau', 'Arizona': 'Phoenix',\n",
    "            'Arkansas': 'Little Rock', 'California': 'Sacramento',\n",
    "            'Colorado': 'Denver', 'Connecticut': 'Hartford', 'Delaware': 'Dover',\n",
    "            'Florida': 'Tallahassee', 'Georgia': 'Atlanta', 'Hawaii': 'Honolulu',\n",
    "            'Idaho': 'Boie', 'Illinois': 'Springfield', 'Indiana': 'Indianapolis',\n",
    "            'Iowa': 'Des Moines', 'Kansas': 'Topeka', 'Kentucky': 'Frankfort',\n",
    "            'Louisiana': 'Baton Rouge', 'Maine': 'Augusta', 'Maryland': 'Annapolis',\n",
    "            'Massachusetts': 'Boston', 'Michigan': 'Lansing', 'Minnesota': 'Saint Paul',\n",
    "            'Mississippi': 'Jackson', 'Missouri': 'Jefferson City', 'Montana': 'Helena',\n",
    "            'Nebraska': 'Lincoln', 'Nevada': 'Carson City', 'New Hampshire': 'Concord',\n",
    "            'New Jersey': 'Trenton', 'New Mexico': 'Santa Fe', 'New York': 'Albany',\n",
    "            'North Carolina': 'Raleigh', 'North Dakota': 'Bismarck', 'Ohio': 'Columbus',\n",
    "            'Oaklahoma': 'Oaklahoma City', 'Oregon': 'Salem', 'Pennsylvania': 'Harrisburg',\n",
    "            'Rhode Island': 'Providence', 'South Carolina': 'Columbia',\n",
    "            'South Dakota': 'Pierre', 'Tennessee': 'Nashville', 'Texas': 'Austin',\n",
    "            'Utah': 'Salt Lake City', 'Vermont': 'Montpelier', 'Virginia': 'Richmond',\n",
    "            'Washington': 'Olympia', 'West Virginia': 'Charleston', 'Wisconsin': 'Madison',\n",
    "            'Wyoming': 'Cheyenne'}\n",
    "\n",
    "# Step2: 建立考卷檔和弄亂考題順序\n",
    "# Generate 35 quiz files:\n",
    "for quizNum in range(35):\n",
    "    # Create the quiz and answer key files.\n",
    "    #考卷檔名是以capitalsquiz<N>.txt其中<N>是該考卷的唯一編號，來自於for迴圈的計數器quizNum\n",
    "    #每次回圈時capitalsquiz%s.txt 和 capitalsquiz_answer%s.txt中的%s占位符號會被(quizNum + 1)所取代\n",
    "    quizFile = open('capitalsquiz%s.txt' % (quizNum + 1), 'w')\n",
    "    answerKeyFile = open('capitalsquiz_answers%s.txt' % (quizNum + 1) , 'w')\n",
    "    \n",
    "    # Write out the header for the quiz.\n",
    "    # Write()陳述句建立了考卷的標題，有讓學生填寫的內容\n",
    "    # 最後使用random.shuffle()函式建立美國各州的隨機串列，該函式會重新隨機編排串列中的值\n",
    "    quizFile.write('Name:\\n\\nDate:\\n\\nPeriod:\\n\\n')\n",
    "    quizFile.write((' ' * 20) + 'State Capitals Quiz (Form %s)' % (quizNum + 1))\n",
    "    quizFile.write('\\n\\n')\n",
    "    \n",
    "    # Shuffle the order of the states.\n",
    "    states = list(capitals.keys())\n",
    "    random.shuffle(states)\n",
    "    \n",
    "# Step3: 建立答案選項\n",
    "# Loop through all 50 states, making a question for each.\n",
    "for questionNum in range(50):\n",
    "    # Get right and wrong ansers.\n",
    "    correctAnswer = capitals[states[questionNum]]   \n",
    "    #正確答案是capitals字典中的一個值\n",
    "    wrongAnswers = list(capitals.values())           \n",
    "    #從capitals字典中複製所有的值\n",
    "    del wrongAnswers[wrongAnswers.index(correctAnswer)]\n",
    "    #刪掉正確答案\n",
    "    wrongAnswers = random.sample(wrongAnswers, 3)\n",
    "    #從該串列中隨機選三個值\n",
    "    answerOptions = wrongAnswers = [correctAnswer]\n",
    "    random.shuffle(answerOptions)\n",
    "    #答案選項要隨機排列\n",
    "\n",
    "# Step4: 將內容寫入考卷和解答檔案中\n",
    "# Write the question and the answer options to the quiz file.\n",
    "\n",
    "    quizFile.write('%s. What is the capital of %s?\\n' % (questionNum + 1, states[questionNum]))\n",
    "    for i in range(4):\n",
    "        quizFile.write(' %s. %s\\n' % ('ABCD'[i], answerOptions[i]))\n",
    "        # 這裡的'ABCD'[i]表示將'ABCD'字串看成是陣列,在迴圈的每次重複迭代中會分別求值為'A','B','C',和'D'\n",
    "    quizFile.write('\\n')\n",
    "    \n",
    "    # Write the answer key to a file.\n",
    "    # answerOptions.index(correctAnswer)表示式會在隨機排列的答案選項之中找到正確答案的整數索引足標,\n",
    "    # 而且'ABCD'[answerOptions.index(correctAnswer)]會將運算求值為正確答案的字母寫入解答檔中\n",
    "    answerKeyFile.write('%s. %s\\n' % (questionNum + 1, 'ABCD'[answerOptions.index(correctAnswer)]))\n",
    "    quizFile.close()\n",
    "    answerKeyFile.close()"
   ]
  },
  {
   "cell_type": "code",
   "execution_count": null,
   "metadata": {
    "collapsed": true
   },
   "outputs": [],
   "source": [
    "#程式專案 : 多重剪貼簿\n",
    "\n",
    "# Step1: 注釋和設定shelf\n",
    "\n",
    "#! python3 \n",
    "# mcb.pyw - Saves and loads pieces of text to the clipboard.\n",
    "# Usage: py.exe mcb.pyw save<keyword> - Saves clipboard to keyboard.\n",
    "#        py.exe mcb.pyw <keyword> - Loads keyword to clipboard.\n",
    "#        py.exe mcb.pyw list - Loads all keywords to clipboard.\n",
    "\n",
    "import shelve, pyperclip, sys\n",
    "\n",
    "mcbshelf = shelve.open('mcb')\n",
    "\n",
    "# TODO : Save clipboard content.\n",
    "# Stpe2: 使用關鍵字來儲存剪貼簿內容\n",
    "# Save clipboard content.\n",
    "if len(sys.argv) == 3 and sys.argv[1].lower() == 'save':\n",
    "    mcbShelf[sys.argv[2]] = pyperclip.paste()\n",
    "elif len(sys.argv) == 2:\n",
    "\n",
    "# TODO : List keywords and load content.\n",
    "# Step3: 列出關鍵字和載入關鍵字內容\n",
    "# List keywords and load content.\n",
    "if sys.argv[1].lower() == 'list':\n",
    "    pyperclip.copy(str(list(mcbShelf.keys())))\n",
    "elif sys.argv[1] in mcbShelf:\n",
    "    pyperclip.copy(mcbShelf[sys.argv[1]])\n",
    "\n",
    "mcbShelf.close()"
   ]
  }
 ],
 "metadata": {
  "anaconda-cloud": {},
  "kernelspec": {
   "display_name": "Python [conda env:Anaconda3]",
   "language": "python",
   "name": "conda-env-Anaconda3-py"
  },
  "language_info": {
   "codemirror_mode": {
    "name": "ipython",
    "version": 3
   },
   "file_extension": ".py",
   "mimetype": "text/x-python",
   "name": "python",
   "nbconvert_exporter": "python",
   "pygments_lexer": "ipython3",
   "version": "3.5.2"
  }
 },
 "nbformat": 4,
 "nbformat_minor": 1
}
