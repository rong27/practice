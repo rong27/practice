{
 "cells": [
  {
   "cell_type": "code",
   "execution_count": 146,
   "metadata": {},
   "outputs": [],
   "source": [
    "import os"
   ]
  },
  {
   "cell_type": "code",
   "execution_count": null,
   "metadata": {},
   "outputs": [],
   "source": [
    "# false code\n",
    "# 因為這樣會做 i*num次得迴圈!!\n",
    "# os.chdir(face_miss_path)\n",
    "\n",
    "# for i in os.listdir(face_miss_path):\n",
    "#     for num in range(0,len(face_miss_path)):\n",
    "#         path = \"20190121_face_miss_RS_\" + str(num) +\".Png\"\n",
    "#         os.rename(i, path)\n"
   ]
  },
  {
   "cell_type": "code",
   "execution_count": 149,
   "metadata": {},
   "outputs": [],
   "source": [
    "# the file on the path you want to rename\n",
    "face_miss_path = \"D:\\\\joyvideo\\\\Face_verify\\\\face_data\\\\miss\\\\20190122\"\n",
    "os.chdir(face_miss_path)\n",
    "\n",
    "for index_num, old_name in enumerate(os.listdir(face_miss_path)):\n",
    "#     print(old_name, index_num)\n",
    "    new_name = \"20190122_face_miss_RS_\" + str(index_num) +\".Png\"\n",
    "    os.rename(old_name, new_name)    "
   ]
  },
  {
   "cell_type": "code",
   "execution_count": null,
   "metadata": {},
   "outputs": [],
   "source": []
  }
 ],
 "metadata": {
  "kernelspec": {
   "display_name": "Python 3",
   "language": "python",
   "name": "python3"
  },
  "language_info": {
   "codemirror_mode": {
    "name": "ipython",
    "version": 3
   },
   "file_extension": ".py",
   "mimetype": "text/x-python",
   "name": "python",
   "nbconvert_exporter": "python",
   "pygments_lexer": "ipython3",
   "version": "3.7.0"
  }
 },
 "nbformat": 4,
 "nbformat_minor": 2
}
